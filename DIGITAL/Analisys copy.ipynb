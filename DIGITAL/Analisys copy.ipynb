{
 "cells": [
  {
   "cell_type": "code",
   "execution_count": 142,
   "metadata": {},
   "outputs": [],
   "source": [
    "import sympy as sp\n",
    "import numpy as np\n",
    "import matplotlib.pyplot as plt"
   ]
  },
  {
   "cell_type": "markdown",
   "metadata": {},
   "source": [
    "# FUNÇÃO DE TRANSFERÊNCIA DO CONTROLADOR"
   ]
  },
  {
   "cell_type": "code",
   "execution_count": 143,
   "metadata": {},
   "outputs": [
    {
     "data": {
      "text/latex": [
       "$\\displaystyle \\frac{\\left(s + 0.152189214911377\\right) \\left(3.7157249352366 s + 5.79396981622179\\right)}{s}$"
      ],
      "text/plain": [
       "(s + 0.152189214911377)*(3.7157249352366*s + 5.79396981622179)/s"
      ]
     },
     "execution_count": 143,
     "metadata": {},
     "output_type": "execute_result"
    }
   ],
   "source": [
    "s = sp.symbols('s')\n",
    "K, a, b = (3.715724935236598, -1.5593107447962538, -0.15218921491137669)\n",
    "\n",
    "C = K * (s - a) * (s - b) / s\n",
    "C"
   ]
  },
  {
   "cell_type": "markdown",
   "metadata": {},
   "source": [
    "- O controlador é passado para o domínio discreto $z$ quando $s \\to \\frac{2}{T} \\cdot \\frac{z-1}{z+1}$"
   ]
  },
  {
   "cell_type": "code",
   "execution_count": 144,
   "metadata": {},
   "outputs": [
    {
     "data": {
      "text/latex": [
       "$\\displaystyle \\frac{55.9685956922464 z^{4} - 98.9537313153433 z^{3} - 12.7189261538842 z^{2} + 98.9537313153433 z - 43.2496695383622}{1.0 z^{4} - 2.0 z^{2} + 1.0}$"
      ],
      "text/plain": [
       "(55.9685956922464*z**4 - 98.9537313153433*z**3 - 12.7189261538842*z**2 + 98.9537313153433*z - 43.2496695383622)/(1.0*z**4 - 2.0*z**2 + 1.0)"
      ]
     },
     "execution_count": 144,
     "metadata": {},
     "output_type": "execute_result"
    }
   ],
   "source": [
    "T = 0.15\n",
    "z = sp.symbols('z')\n",
    "\n",
    "transZ = 2/T*(z-1)/(z+1)\n",
    "C = C.subs(s, transZ).expand().simplify()\n",
    "C"
   ]
  },
  {
   "cell_type": "markdown",
   "metadata": {},
   "source": [
    "- Substituindo $C(s) = \\frac{Y(s)}{X(s)}$ (saída sobre a entrada)"
   ]
  },
  {
   "cell_type": "code",
   "execution_count": 145,
   "metadata": {},
   "outputs": [
    {
     "data": {
      "text/latex": [
       "$\\displaystyle \\frac{Y}{X} = \\frac{55.9685956922464 z^{4} - 98.9537313153433 z^{3} - 12.7189261538842 z^{2} + 98.9537313153433 z - 43.2496695383622}{1.0 z^{4} - 2.0 z^{2} + 1.0}$"
      ],
      "text/plain": [
       "Eq(Y/X, (55.9685956922464*z**4 - 98.9537313153433*z**3 - 12.7189261538842*z**2 + 98.9537313153433*z - 43.2496695383622)/(1.0*z**4 - 2.0*z**2 + 1.0))"
      ]
     },
     "execution_count": 145,
     "metadata": {},
     "output_type": "execute_result"
    }
   ],
   "source": [
    "X, Y = sp.symbols('X Y')\n",
    "sp.Eq(Y/X, C)"
   ]
  },
  {
   "cell_type": "markdown",
   "metadata": {},
   "source": [
    "- O próximo passo é dividir tudo pelo termos de maior grau do denominador, ou seja, por $z^4$, e vamos também expandir pra manipular melhor"
   ]
  },
  {
   "cell_type": "code",
   "execution_count": 146,
   "metadata": {},
   "outputs": [
    {
     "data": {
      "text/plain": [
       "4"
      ]
     },
     "execution_count": 146,
     "metadata": {},
     "output_type": "execute_result"
    }
   ],
   "source": [
    "num, den = sp.fraction(C)\n",
    "grau = sp.Poly(den).degree()\n",
    "grau"
   ]
  },
  {
   "cell_type": "code",
   "execution_count": 147,
   "metadata": {},
   "outputs": [
    {
     "data": {
      "text/latex": [
       "$\\displaystyle 55.9685956922464 X - \\frac{98.9537313153433 X}{z} - \\frac{12.7189261538842 X}{z^{2}} + \\frac{98.9537313153433 X}{z^{3}} - \\frac{43.2496695383622 X}{z^{4}} - 1.0 Y + \\frac{2.0 Y}{z^{2}} - \\frac{1.0 Y}{z^{4}} = 0$"
      ],
      "text/plain": [
       "Eq(55.9685956922464*X - 98.9537313153433*X/z - 12.7189261538842*X/z**2 + 98.9537313153433*X/z**3 - 43.2496695383622*X/z**4 - 1.0*Y + 2.0*Y/z**2 - 1.0*Y/z**4, 0)"
      ]
     },
     "execution_count": 147,
     "metadata": {},
     "output_type": "execute_result"
    }
   ],
   "source": [
    "eq = sp.Eq((num*X/z**grau).expand() - (den*Y/z**grau).expand(), 0)\n",
    "eq"
   ]
  },
  {
   "cell_type": "markdown",
   "metadata": {},
   "source": [
    "- Agora dentro deste $\\textbf{for}$ serão feitas substituições do tipo $2Y\\,z^{-2} = 2Y_{n-2}$"
   ]
  },
  {
   "cell_type": "code",
   "execution_count": 148,
   "metadata": {},
   "outputs": [
    {
     "data": {
      "text/latex": [
       "$\\displaystyle 55.9685956922464 X - 98.9537313153433 X_{n-1} - 12.7189261538842 X_{n-2} + 98.9537313153433 X_{n-3} - 43.2496695383622 X_{n-4} - 1.0 Y + 2.0 Y_{n-2} - 1.0 Y_{n-4} = 0$"
      ],
      "text/plain": [
       "Eq(55.9685956922464*X - 98.9537313153433*X_{n-1} - 12.7189261538842*X_{n-2} + 98.9537313153433*X_{n-3} - 43.2496695383622*X_{n-4} - 1.0*Y + 2.0*Y_{n-2} - 1.0*Y_{n-4}, 0)"
      ]
     },
     "execution_count": 148,
     "metadata": {},
     "output_type": "execute_result"
    }
   ],
   "source": [
    "for i in range(10, 0, -1):\n",
    "    eq = eq.subs(X/z**i, sp.symbols('X_{n-' + str(i) + '}'))\n",
    "    eq = eq.subs(Y/z**i, sp.symbols('Y_{n-' + str(i) + '}'))\n",
    "\n",
    "eq"
   ]
  },
  {
   "cell_type": "markdown",
   "metadata": {},
   "source": [
    "- Agora é só isolar o $Y = Y_n$"
   ]
  },
  {
   "cell_type": "code",
   "execution_count": 149,
   "metadata": {},
   "outputs": [
    {
     "data": {
      "text/latex": [
       "$\\displaystyle Y = 55.9685956922464 X - 98.9537313153433 X_{n-1} - 12.7189261538842 X_{n-2} + 98.9537313153433 X_{n-3} - 43.2496695383622 X_{n-4} + 2.0 Y_{n-2} - Y_{n-4}$"
      ],
      "text/plain": [
       "Eq(Y, 55.9685956922464*X - 98.9537313153433*X_{n-1} - 12.7189261538842*X_{n-2} + 98.9537313153433*X_{n-3} - 43.2496695383622*X_{n-4} + 2.0*Y_{n-2} - Y_{n-4})"
      ]
     },
     "execution_count": 149,
     "metadata": {},
     "output_type": "execute_result"
    }
   ],
   "source": [
    "sol = sp.Eq(Y, sp.solve(eq, Y)[0])\n",
    "sol"
   ]
  },
  {
   "cell_type": "markdown",
   "metadata": {},
   "source": [
    "- Formatando as variáveis para ficar mais fácil de copiar e colar no arduino"
   ]
  },
  {
   "cell_type": "code",
   "execution_count": 150,
   "metadata": {},
   "outputs": [
    {
     "name": "stdout",
     "output_type": "stream",
     "text": [
      "55.9685956922464*X_n - 98.9537313153433*X_n1 - 12.7189261538842*X_n2 + 98.9537313153433*X_n3 - 43.2496695383622*X_n4 + 2.0*Y_n2 - Y_n4;\n"
     ]
    }
   ],
   "source": [
    "Y_n = sol.rhs\n",
    "Y_n = Y_n.subs(sp.symbols('X'), sp.symbols('X_n'))\n",
    "\n",
    "Y_str = str(Y_n)\n",
    "Y_str = Y_str.replace('X_{n-1}', 'X_n1').replace('X_{n-2}', 'X_n2').replace('X_{n-3}', 'X_n3').replace('X_{n-4}', 'X_n4')\\\n",
    "             .replace('Y_{n-1}', 'Y_n1').replace('Y_{n-2}', 'Y_n2').replace('Y_{n-3}', 'Y_n3').replace('Y_{n-4}', 'Y_n4') + ';'\n",
    "\n",
    "print(Y_str)"
   ]
  },
  {
   "cell_type": "markdown",
   "metadata": {},
   "source": [
    "# TESTANDO O CONTROLADOR"
   ]
  },
  {
   "cell_type": "code",
   "execution_count": 151,
   "metadata": {},
   "outputs": [],
   "source": [
    "Y_n1 = Y_n2 = Y_n3 = Y_n4 = 0\n",
    "X_n1 = X_n2 = X_n3 = X_n4 = 0\n",
    "\n",
    "def computeController(inputValue, setpoint):\n",
    "    global Y_n1, Y_n2, Y_n3, Y_n4\n",
    "    global X_n1, X_n2, X_n3, X_n4\n",
    "    \n",
    "    X_n = setpoint - inputValue\n",
    "    Y_n = eval(Y_str[:-1])\n",
    "\n",
    "    if Y_n < -100:\n",
    "        Y_n = -100\n",
    "\n",
    "    if Y_n > 100:\n",
    "        Y_n = 100\n",
    "\n",
    "    X_n4 = X_n3\n",
    "    X_n3 = X_n2\n",
    "    X_n2 = X_n1\n",
    "    X_n1 = X_n \n",
    "\n",
    "    Y_n4 = Y_n3\n",
    "    Y_n3 = Y_n2\n",
    "    Y_n2 = Y_n1\n",
    "    Y_n1 = Y_n\n",
    "    return Y_n"
   ]
  },
  {
   "cell_type": "code",
   "execution_count": 152,
   "metadata": {},
   "outputs": [],
   "source": [
    "timeData = np.arange(0, 10, T)"
   ]
  },
  {
   "cell_type": "markdown",
   "metadata": {},
   "source": [
    "- O comportamento normal é que, se o output estiver menor do que o setpoint, o erro é positivo, o controlador então deve aumentar a saída até a saturação."
   ]
  },
  {
   "cell_type": "code",
   "execution_count": 153,
   "metadata": {},
   "outputs": [
    {
     "data": {
      "image/png": "[encoded data removed]",
      "text/plain": [
       "<Figure size 640x480 with 1 Axes>"
      ]
     },
     "metadata": {},
     "output_type": "display_data"
    }
   ],
   "source": [
    "setpoint     = 10\n",
    "currentInput = 5\n",
    "\n",
    "inputData  = [currentInput for i in timeData]\n",
    "outputData = [computeController(inputVal, setpoint) for inputVal in inputData]\n",
    "\n",
    "plt.scatter(timeData, outputData, s=10)\n",
    "plt.grid()\n",
    "plt.show()"
   ]
  },
  {
   "cell_type": "markdown",
   "metadata": {},
   "source": [
    "- O comportamento normal é que, se o output estiver maior do que o setpoint, o erro é negativo, o controlador então deve diminuir a saída até a saturação."
   ]
  },
  {
   "cell_type": "code",
   "execution_count": 154,
   "metadata": {},
   "outputs": [
    {
     "data": {
      "image/png": "[encoded data removed]",
      "text/plain": [
       "<Figure size 640x480 with 1 Axes>"
      ]
     },
     "metadata": {},
     "output_type": "display_data"
    }
   ],
   "source": [
    "setpoint     = 10\n",
    "currentInput = 15\n",
    "\n",
    "inputData  = [currentInput for i in timeData]\n",
    "outputData = [computeController(inputVal, setpoint) for inputVal in inputData]\n",
    "\n",
    "plt.scatter(timeData, outputData, s=10)\n",
    "plt.grid()\n",
    "plt.show()"
   ]
  },
  {
   "cell_type": "markdown",
   "metadata": {},
   "source": [
    "- Se o setpoint é igual o input, o erro é zero, o atuador deve manter a saída inalterada, ou seja, permanecer constante"
   ]
  },
  {
   "cell_type": "code",
   "execution_count": 155,
   "metadata": {},
   "outputs": [
    {
     "data": {
      "image/png": "[encoded data removed]",
      "text/plain": [
       "<Figure size 640x480 with 1 Axes>"
      ]
     },
     "metadata": {},
     "output_type": "display_data"
    }
   ],
   "source": [
    "setpoint     = 10\n",
    "currentInput = 10\n",
    "\n",
    "inputData  = [currentInput for i in timeData]\n",
    "outputData = [computeController(inputVal, setpoint) for inputVal in inputData]\n",
    "\n",
    "plt.scatter(timeData, outputData, s=10)\n",
    "plt.grid()\n",
    "plt.show()"
   ]
  }
 ],
 "metadata": {
  "kernelspec": {
   "display_name": "Python 3",
   "language": "python",
   "name": "python3"
  },
  "language_info": {
   "codemirror_mode": {
    "name": "ipython",
    "version": 3
   },
   "file_extension": ".py",
   "mimetype": "text/x-python",
   "name": "python",
   "nbconvert_exporter": "python",
   "pygments_lexer": "ipython3",
   "version": "3.11.4"
  }
 },
 "nbformat": 4,
 "nbformat_minor": 2
}
