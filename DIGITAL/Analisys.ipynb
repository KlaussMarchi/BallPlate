{
 "cells": [
  {
   "cell_type": "code",
   "execution_count": 427,
   "metadata": {},
   "outputs": [],
   "source": [
    "import sympy as sp\n",
    "import numpy as np\n",
    "import matplotlib.pyplot as plt\n",
    "import control as ctl\n",
    "import numpy as np"
   ]
  },
  {
   "cell_type": "markdown",
   "metadata": {},
   "source": [
    "# COMPARANDO A RESPOSTA DA PLANTA\n",
    "- Definindo as funções de transferência da planta e do controlador, encontrados anteriormente"
   ]
  },
  {
   "cell_type": "code",
   "execution_count": 428,
   "metadata": {},
   "outputs": [
    {
     "data": {
      "text/latex": [
       "$$\\frac{0.5594 s^2 + 49.86 s + 1111}{s}$$"
      ],
      "text/plain": [
       "TransferFunction(array([5.59446397e-01, 4.98608679e+01, 1.11096709e+03]), array([1, 0]))"
      ]
     },
     "execution_count": 428,
     "metadata": {},
     "output_type": "execute_result"
    }
   ],
   "source": [
    "s = ctl.TransferFunction.s\n",
    "K, a, b = (0.5594463965947698, -44.561536481460486, -44.5638349542396)\n",
    "\n",
    "G = 0.1975236421*(0.03252359073*s + 1.0)/(1.0*s - 0.49401493)\n",
    "C =  K * (s - a) * (s - b) / s\n",
    "C"
   ]
  },
  {
   "cell_type": "markdown",
   "metadata": {},
   "source": [
    "- Fechando a malha adotando $H(s) = 1$"
   ]
  },
  {
   "cell_type": "code",
   "execution_count": 429,
   "metadata": {},
   "outputs": [
    {
     "data": {
      "text/latex": [
       "$$\\frac{0.003594 s^3 + 0.4308 s^2 + 16.99 s + 219.4}{0.003594 s^3 + 1.431 s^2 + 16.49 s + 219.4}$$"
      ],
      "text/plain": [
       "TransferFunction(array([3.59398329e-03, 4.30818985e-01, 1.69857507e+01, 2.19442266e+02]), array([3.59398329e-03, 1.43081899e+00, 1.64917358e+01, 2.19442266e+02]))"
      ]
     },
     "execution_count": 429,
     "metadata": {},
     "output_type": "execute_result"
    }
   ],
   "source": [
    "G_feedback = ctl.feedback(G*C, 1)\n",
    "G_feedback"
   ]
  },
  {
   "cell_type": "markdown",
   "metadata": {},
   "source": [
    "- Definindo o período de amostragem e convertendo a função de transferência para o domínio $Z$"
   ]
  },
  {
   "cell_type": "code",
   "execution_count": 430,
   "metadata": {},
   "outputs": [
    {
     "data": {
      "text/latex": [
       "$$\\frac{z^3 - 2.538 z^2 + 2.217 z - 0.6647}{z^3 - 1.898 z^2 + 0.931 z - 0.01866}\\quad dt = 0.01$$"
      ],
      "text/plain": [
       "TransferFunction(array([ 1.        , -2.53774277,  2.21700278, -0.66467133]), array([ 1.        , -1.89775901,  0.93101183, -0.01866415]), 0.01)"
      ]
     },
     "execution_count": 430,
     "metadata": {},
     "output_type": "execute_result"
    }
   ],
   "source": [
    "T = 0.01\n",
    "\n",
    "G_z_feedback = ctl.c2d(G_feedback, T, method='zoh')\n",
    "G_z_feedback"
   ]
  },
  {
   "cell_type": "markdown",
   "metadata": {},
   "source": [
    "- Passando os vetores dos coeficientes do numerador e denominador para uma string que é a própria função do sistema discretizada"
   ]
  },
  {
   "cell_type": "code",
   "execution_count": 431,
   "metadata": {},
   "outputs": [
    {
     "name": "stdout",
     "output_type": "stream",
     "text": [
      "[ 1.         -2.53774277  2.21700278 -0.66467133]\n",
      "[ 1.         -1.89775901  0.93101183 -0.01866415]\n"
     ]
    }
   ],
   "source": [
    "num, den = ctl.tfdata(G_z_feedback)\n",
    "num = np.squeeze(num)\n",
    "den = np.squeeze(den)\n",
    "\n",
    "num = num/den[0]\n",
    "den = den/den[0]\n",
    "\n",
    "print(num)\n",
    "print(den)"
   ]
  },
  {
   "cell_type": "code",
   "execution_count": 432,
   "metadata": {},
   "outputs": [
    {
     "data": {
      "text/plain": [
       "'1.0*X_n -2.5377427672570327*X_n1 + 2.21700277910914*X_n2 -0.6646713337844465*X_n3 + 1.8977590093711272*Y_n1-0.9310118335528617*Y_n2+ 0.018664146114073663*Y_n3'"
      ]
     },
     "execution_count": 432,
     "metadata": {},
     "output_type": "execute_result"
    }
   ],
   "source": [
    "out = ''\n",
    "\n",
    "for i in range(0, len(num)):\n",
    "    out += f'{num[i]}*X_n{i} + '\n",
    "\n",
    "for i in range(1, len(den)):\n",
    "    out += f'+ {-1*den[i]}*Y_n{i}'\n",
    "\n",
    "out = out.replace('X_n0', 'X_n').replace('+ +', '+').replace('+ -', '-')\n",
    "out"
   ]
  },
  {
   "cell_type": "markdown",
   "metadata": {},
   "source": [
    "- Agora é possível encontra a saída do sistema em malha fechada dada uma entrada $X_n$, no caso de um degrau unitário, é só fazer $X_n = 1$ para todo $n$"
   ]
  },
  {
   "cell_type": "code",
   "execution_count": 433,
   "metadata": {},
   "outputs": [],
   "source": [
    "Y_n1 = Y_n2 = Y_n3 = 0\n",
    "X_n1 = X_n2 = X_n3 = 0\n",
    "\n",
    "def computeController(X_n):\n",
    "    global Y_n1, Y_n2, Y_n3\n",
    "    global X_n1, X_n2, X_n3\n",
    "\n",
    "    Y_n = eval(out)\n",
    "\n",
    "    X_n3 = X_n2\n",
    "    X_n2 = X_n1\n",
    "    X_n1 = X_n\n",
    "\n",
    "    Y_n3 = Y_n2\n",
    "    Y_n2 = Y_n1\n",
    "    Y_n1 = Y_n\n",
    "    return Y_n"
   ]
  },
  {
   "cell_type": "markdown",
   "metadata": {},
   "source": [
    "- Comparando graficamente as 2 soluções"
   ]
  },
  {
   "cell_type": "code",
   "execution_count": 434,
   "metadata": {},
   "outputs": [
    {
     "data": {
      "image/png": "[encoded data removed]",
      "text/plain": [
       "<Figure size 640x480 with 1 Axes>"
      ]
     },
     "metadata": {},
     "output_type": "display_data"
    }
   ],
   "source": [
    "time, response = ctl.step_response(G_feedback)\n",
    "plt.plot(time, response, color='orange', linewidth=3, label='tempo contínuo')\n",
    "\n",
    "Y_n1 = Y_n2 = Y_n3 = 0\n",
    "X_n1 = X_n2 = X_n3 = 0\n",
    "time     = np.arange(0, 5, T)\n",
    "response = [computeController(1) for i in time] # degrau\n",
    "plt.scatter(time, response, color='blue', label='controlador arduino')\n",
    "\n",
    "# PLOTANDO OS GRÁFICOS\n",
    "plt.xlim([0, 1.2])\n",
    "plt.legend()\n",
    "plt.show()"
   ]
  },
  {
   "cell_type": "markdown",
   "metadata": {},
   "source": [
    "# COMPARANDO A RESPOSTA DO CONTROLADOR\n",
    "$T(s) = \\frac{G(s)C(s)}{1 + G(s)C(s)}$"
   ]
  },
  {
   "cell_type": "code",
   "execution_count": 435,
   "metadata": {},
   "outputs": [
    {
     "data": {
      "text/latex": [
       "$$\\frac{0.006424 z - 0.004444}{z - 1.005}\\quad dt = 0.01$$"
      ],
      "text/plain": [
       "TransferFunction(array([ 0.00642418, -0.00444405]), array([ 1.        , -1.00495237]), 0.01)"
      ]
     },
     "execution_count": 435,
     "metadata": {},
     "output_type": "execute_result"
    }
   ],
   "source": [
    "G_z = ctl.c2d(G, T, method='zoh')\n",
    "G_z"
   ]
  },
  {
   "cell_type": "code",
   "execution_count": 436,
   "metadata": {},
   "outputs": [
    {
     "data": {
      "text/latex": [
       "$\\displaystyle \\frac{0.0064241780951594 z + 0.1975236421}{1.0 z - 0.49401493}$"
      ],
      "text/plain": [
       "(0.0064241780951594*z + 0.1975236421)/(1.0*z - 0.49401493)"
      ]
     },
     "metadata": {},
     "output_type": "display_data"
    },
    {
     "data": {
      "text/latex": [
       "$\\displaystyle \\frac{0.00359398328641998 z^{3} + 0.430818985150999 z^{2} + 16.9857506821835 z + 219.44226627898}{0.00359398328641998 z^{3} + 1.430818985151 z^{2} + 16.4917357521835 z + 219.44226627898}$"
      ],
      "text/plain": [
       "(0.00359398328641998*z**3 + 0.430818985150999*z**2 + 16.9857506821835*z + 219.44226627898)/(0.00359398328641998*z**3 + 1.430818985151*z**2 + 16.4917357521835*z + 219.44226627898)"
      ]
     },
     "metadata": {},
     "output_type": "display_data"
    }
   ],
   "source": [
    "z = sp.var('z')\n",
    "C = sp.var('C')\n",
    "\n",
    "G = sympyFunction(G)\n",
    "G_feedback = sympyFunction(G_feedback)\n",
    "\n",
    "display(G)\n",
    "display(G_feedback)"
   ]
  },
  {
   "cell_type": "code",
   "execution_count": 437,
   "metadata": {},
   "outputs": [
    {
     "data": {
      "text/latex": [
       "$\\displaystyle \\frac{0.00359398328641998 z^{3} + 0.430818985150999 z^{2} + 16.9857506821835 z + 219.44226627898}{0.00359398328641998 z^{3} + 1.430818985151 z^{2} + 16.4917357521835 z + 219.44226627898} = \\frac{C \\left(0.0064241780951594 z + 0.1975236421\\right)}{\\left(1.0 z - 0.49401493\\right) \\left(\\frac{C \\left(0.0064241780951594 z + 0.1975236421\\right)}{1.0 z - 0.49401493} + 1\\right)}$"
      ],
      "text/plain": [
       "Eq((0.00359398328641998*z**3 + 0.430818985150999*z**2 + 16.9857506821835*z + 219.44226627898)/(0.00359398328641998*z**3 + 1.430818985151*z**2 + 16.4917357521835*z + 219.44226627898), C*(0.0064241780951594*z + 0.1975236421)/((1.0*z - 0.49401493)*(C*(0.0064241780951594*z + 0.1975236421)/(1.0*z - 0.49401493) + 1)))"
      ]
     },
     "execution_count": 437,
     "metadata": {},
     "output_type": "execute_result"
    }
   ],
   "source": [
    "eq = sp.Eq(G_feedback, (G*C)/(1+G*C))\n",
    "eq"
   ]
  },
  {
   "cell_type": "code",
   "execution_count": 438,
   "metadata": {},
   "outputs": [
    {
     "data": {
      "text/latex": [
       "$\\displaystyle \\frac{0.018492324392018 z^{4} + 2.20758167674283 z^{3} + 86.3026471872093 z^{2} + 1085.93285025454 z - 557.796524740056}{z \\left(0.0330546849610201 z^{2} + 1.0 z - 0.502081950690884\\right)}$"
      ],
      "text/plain": [
       "(0.018492324392018*z**4 + 2.20758167674283*z**3 + 86.3026471872093*z**2 + 1085.93285025454*z - 557.796524740056)/(z*(0.0330546849610201*z**2 + 1.0*z - 0.502081950690884))"
      ]
     },
     "metadata": {},
     "output_type": "display_data"
    },
    {
     "name": "stdout",
     "output_type": "stream",
     "text": [
      "(0.018492324392018*z**4 + 2.20758167674283*z**3 + 86.3026471872093*z**2 + 1085.93285025454*z - 557.796524740056)/(z*(0.0330546849610201*z**2 + 1.0*z - 0.502081950690884))\n"
     ]
    }
   ],
   "source": [
    "C = sp.solve(eq, C)[0].factor().expand().simplify()\n",
    "\n",
    "display(C)\n",
    "print(C)"
   ]
  },
  {
   "cell_type": "code",
   "execution_count": 447,
   "metadata": {},
   "outputs": [
    {
     "name": "stdout",
     "output_type": "stream",
     "text": [
      "0.018492324392018*z**4 + 2.20758167674283*z**3 + 86.3026471872093*z**2 + 1085.93285025454*z - 557.796524740056\n"
     ]
    },
    {
     "ename": "IndexError",
     "evalue": "too many indices for array: array is 0-dimensional, but 1 were indexed",
     "output_type": "error",
     "traceback": [
      "\u001b[0;31m---------------------------------------------------------------------------\u001b[0m",
      "\u001b[0;31mIndexError\u001b[0m                                Traceback (most recent call last)",
      "Cell \u001b[0;32mIn[447], line 7\u001b[0m\n\u001b[1;32m      4\u001b[0m num \u001b[38;5;241m=\u001b[39m np\u001b[38;5;241m.\u001b[39msqueeze(num)\n\u001b[1;32m      5\u001b[0m den \u001b[38;5;241m=\u001b[39m np\u001b[38;5;241m.\u001b[39msqueeze(den)\n\u001b[0;32m----> 7\u001b[0m num \u001b[38;5;241m=\u001b[39m num\u001b[38;5;241m/\u001b[39m\u001b[43mden\u001b[49m\u001b[43m[\u001b[49m\u001b[38;5;241;43m0\u001b[39;49m\u001b[43m]\u001b[49m\n\u001b[1;32m      8\u001b[0m den \u001b[38;5;241m=\u001b[39m den\u001b[38;5;241m/\u001b[39mden[\u001b[38;5;241m0\u001b[39m]\n\u001b[1;32m     10\u001b[0m \u001b[38;5;28mprint\u001b[39m(num)\n",
      "\u001b[0;31mIndexError\u001b[0m: too many indices for array: array is 0-dimensional, but 1 were indexed"
     ]
    }
   ],
   "source": [
    "num, den = sp.fraction(C)\n",
    "print(num)\n",
    "\n",
    "num = np.squeeze(num)\n",
    "den = np.squeeze(den)\n",
    "\n",
    "num = num/den[0]\n",
    "den = den/den[0]\n",
    "\n",
    "print(num)\n",
    "print(den)"
   ]
  }
 ],
 "metadata": {
  "kernelspec": {
   "display_name": "Python 3",
   "language": "python",
   "name": "python3"
  },
  "language_info": {
   "codemirror_mode": {
    "name": "ipython",
    "version": 3
   },
   "file_extension": ".py",
   "mimetype": "text/x-python",
   "name": "python",
   "nbconvert_exporter": "python",
   "pygments_lexer": "ipython3",
   "version": "3.10.12"
  }
 },
 "nbformat": 4,
 "nbformat_minor": 2
}
