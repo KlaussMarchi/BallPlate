{
 "cells": [
  {
   "cell_type": "code",
   "execution_count": 40,
   "metadata": {},
   "outputs": [],
   "source": [
    "import sympy as sp\n",
    "import numpy as np\n",
    "import matplotlib.pyplot as plt\n",
    "import control as ctl\n",
    "from time import time"
   ]
  },
  {
   "cell_type": "markdown",
   "metadata": {},
   "source": [
    "# FUNÇÃO DE TRANSFERÊNCIA DO CONTROLADOR"
   ]
  },
  {
   "cell_type": "code",
   "execution_count": 41,
   "metadata": {},
   "outputs": [
    {
     "data": {
      "text/latex": [
       "$\\displaystyle \\frac{\\left(0.545501561625872 s + 44.3622276166449\\right) \\left(s + 81.0605800104848\\right)}{s}$"
      ],
      "text/plain": [
       "(0.545501561625872*s + 44.3622276166449)*(s + 81.0605800104848)/s"
      ]
     },
     "execution_count": 41,
     "metadata": {},
     "output_type": "execute_result"
    }
   ],
   "source": [
    "s = sp.symbols('s')\n",
    "K, a, b = (0.5455015616258723, -81.32374082380792, -81.06058001048476)\n",
    "\n",
    "C = K * (s - a) * (s - b) / s\n",
    "C"
   ]
  },
  {
   "cell_type": "markdown",
   "metadata": {},
   "source": [
    "- O controlador é passado para o domínio discreto $z$ quando $s \\to \\frac{2}{T} \\cdot \\frac{z-1}{z+1}$"
   ]
  },
  {
   "cell_type": "code",
   "execution_count": 42,
   "metadata": {},
   "outputs": [
    {
     "data": {
      "text/latex": [
       "$\\displaystyle \\frac{989.769882135762 z^{4} + 1793.64993808818 z^{3} - 177.161801197327 z^{2} - 1793.64993808818 z - 812.608080938436}{1.0 z^{4} - 2.0 z^{2} + 1.0}$"
      ],
      "text/plain": [
       "(989.769882135762*z**4 + 1793.64993808818*z**3 - 177.161801197327*z**2 - 1793.64993808818*z - 812.608080938436)/(1.0*z**4 - 2.0*z**2 + 1.0)"
      ]
     },
     "execution_count": 42,
     "metadata": {},
     "output_type": "execute_result"
    }
   ],
   "source": [
    "T = 0.5\n",
    "z = sp.symbols('z')\n",
    "\n",
    "transZ = 2/T*(z-1)/(z+1)\n",
    "C = C.subs(s, transZ).expand().simplify()\n",
    "C"
   ]
  },
  {
   "cell_type": "markdown",
   "metadata": {},
   "source": [
    "- Substituindo $C(s) = \\frac{Y(s)}{X(s)}$ (saída sobre a entrada)"
   ]
  },
  {
   "cell_type": "code",
   "execution_count": 43,
   "metadata": {},
   "outputs": [
    {
     "data": {
      "text/latex": [
       "$\\displaystyle \\frac{Y}{X} = \\frac{989.769882135762 z^{4} + 1793.64993808818 z^{3} - 177.161801197327 z^{2} - 1793.64993808818 z - 812.608080938436}{1.0 z^{4} - 2.0 z^{2} + 1.0}$"
      ],
      "text/plain": [
       "Eq(Y/X, (989.769882135762*z**4 + 1793.64993808818*z**3 - 177.161801197327*z**2 - 1793.64993808818*z - 812.608080938436)/(1.0*z**4 - 2.0*z**2 + 1.0))"
      ]
     },
     "execution_count": 43,
     "metadata": {},
     "output_type": "execute_result"
    }
   ],
   "source": [
    "X, Y = sp.symbols('X Y')\n",
    "sp.Eq(Y/X, C)"
   ]
  },
  {
   "cell_type": "markdown",
   "metadata": {},
   "source": [
    "- O próximo passo é dividir tudo pelo termos de maior grau do denominador, ou seja, por $z^4$, e vamos também expandir pra manipular melhor"
   ]
  },
  {
   "cell_type": "code",
   "execution_count": 44,
   "metadata": {},
   "outputs": [
    {
     "data": {
      "text/latex": [
       "$\\displaystyle 989.769882135762 X + \\frac{1793.64993808818 X}{z} - \\frac{177.161801197327 X}{z^{2}} - \\frac{1793.64993808818 X}{z^{3}} - \\frac{812.608080938436 X}{z^{4}} - 1.0 Y + \\frac{2.0 Y}{z^{2}} - \\frac{1.0 Y}{z^{4}} = 0$"
      ],
      "text/plain": [
       "Eq(989.769882135762*X + 1793.64993808818*X/z - 177.161801197327*X/z**2 - 1793.64993808818*X/z**3 - 812.608080938436*X/z**4 - 1.0*Y + 2.0*Y/z**2 - 1.0*Y/z**4, 0)"
      ]
     },
     "execution_count": 44,
     "metadata": {},
     "output_type": "execute_result"
    }
   ],
   "source": [
    "num, den = sp.fraction(C)\n",
    "grau = 4\n",
    "\n",
    "eq = sp.Eq((num*X/z**grau).expand() - (den*Y/z**grau).expand(), 0)\n",
    "eq"
   ]
  },
  {
   "cell_type": "markdown",
   "metadata": {},
   "source": [
    "- Agora dentro deste for serão feitas substituições do tipo $2Y\\,z^{-2} = 2Y_{n-2}$"
   ]
  },
  {
   "cell_type": "code",
   "execution_count": 45,
   "metadata": {},
   "outputs": [
    {
     "data": {
      "text/latex": [
       "$\\displaystyle 989.769882135762 X + 1793.64993808818 X_{n-1} - 177.161801197327 X_{n-2} - 1793.64993808818 X_{n-3} - 812.608080938436 X_{n-4} - 1.0 Y + 2.0 Y_{n-2} - 1.0 Y_{n-4} = 0$"
      ],
      "text/plain": [
       "Eq(989.769882135762*X + 1793.64993808818*X_{n-1} - 177.161801197327*X_{n-2} - 1793.64993808818*X_{n-3} - 812.608080938436*X_{n-4} - 1.0*Y + 2.0*Y_{n-2} - 1.0*Y_{n-4}, 0)"
      ]
     },
     "execution_count": 45,
     "metadata": {},
     "output_type": "execute_result"
    }
   ],
   "source": [
    "for i in range(10, 0, -1):\n",
    "    eq = eq.subs(X/z**i, sp.symbols('X_{n-' + str(i) + '}'))\n",
    "    eq = eq.subs(Y/z**i, sp.symbols('Y_{n-' + str(i) + '}'))\n",
    "\n",
    "eq"
   ]
  },
  {
   "cell_type": "markdown",
   "metadata": {},
   "source": [
    "- Agora é só isolar o $Y = Y_n$"
   ]
  },
  {
   "cell_type": "code",
   "execution_count": 46,
   "metadata": {},
   "outputs": [
    {
     "data": {
      "text/latex": [
       "$\\displaystyle Y = 989.769882135762 X + 1793.64993808818 X_{n-1} - 177.161801197327 X_{n-2} - 1793.64993808818 X_{n-3} - 812.608080938436 X_{n-4} + 2.0 Y_{n-2} - Y_{n-4}$"
      ],
      "text/plain": [
       "Eq(Y, 989.769882135762*X + 1793.64993808818*X_{n-1} - 177.161801197327*X_{n-2} - 1793.64993808818*X_{n-3} - 812.608080938436*X_{n-4} + 2.0*Y_{n-2} - Y_{n-4})"
      ]
     },
     "execution_count": 46,
     "metadata": {},
     "output_type": "execute_result"
    }
   ],
   "source": [
    "sol = sp.Eq(Y, sp.solve(eq, Y)[0])\n",
    "sol"
   ]
  },
  {
   "cell_type": "code",
   "execution_count": 47,
   "metadata": {},
   "outputs": [
    {
     "name": "stdout",
     "output_type": "stream",
     "text": [
      "989.769882135762*X_n + 1793.64993808818*X_n1 - 177.161801197327*X_n2 - 1793.64993808818*X_n3 - 812.608080938436*X_n4 + 2.0*Y_n2 - Y_n4;\n"
     ]
    }
   ],
   "source": [
    "Y_n = sol.rhs\n",
    "Y_n = Y_n.subs(sp.symbols('X'), sp.symbols('X_n'))\n",
    "\n",
    "Y_str = str(Y_n)\n",
    "Y_str = Y_str.replace('X_{n-1}', 'X_n1').replace('X_{n-2}', 'X_n2').replace('X_{n-3}', 'X_n3').replace('X_{n-4}', 'X_n4')\\\n",
    "             .replace('Y_{n-1}', 'Y_n1').replace('Y_{n-2}', 'Y_n2').replace('Y_{n-3}', 'Y_n3').replace('Y_{n-4}', 'Y_n4') + ';'\n",
    "\n",
    "print(Y_str)"
   ]
  },
  {
   "cell_type": "markdown",
   "metadata": {},
   "source": [
    "# VERIFICANDO"
   ]
  },
  {
   "cell_type": "code",
   "execution_count": 48,
   "metadata": {},
   "outputs": [],
   "source": [
    "Y_n1 = Y_n2 = Y_n3 = Y_n4 = 0\n",
    "X_n1 = X_n2 = X_n3 = X_n4 = 0\n",
    "\n",
    "def computeController(inputValue, setpoint):\n",
    "    global Y_n1, Y_n2, Y_n3, Y_n4\n",
    "    global X_n1, X_n2, X_n3, X_n4\n",
    "    \n",
    "    X_n = setpoint - inputValue\n",
    "    Y_n = 989.769882135762*X_n + 1793.64993808818*X_n1 - 177.161801197327*X_n2 - 1793.64993808818*X_n3 - 812.608080938436*X_n4 + 2.0*Y_n2 - Y_n4\n",
    "\n",
    "    X_n4 = X_n3\n",
    "    X_n3 = X_n2\n",
    "    X_n2 = X_n1\n",
    "    X_n1 = X_n \n",
    "\n",
    "    Y_n4 = Y_n3\n",
    "    Y_n3 = Y_n2\n",
    "    Y_n2 = Y_n1\n",
    "    Y_n1 = Y_n\n",
    "    return Y_n"
   ]
  },
  {
   "cell_type": "code",
   "execution_count": 49,
   "metadata": {},
   "outputs": [
    {
     "data": {
      "text/plain": [
       "[<matplotlib.lines.Line2D at 0x7f70db3ee920>]"
      ]
     },
     "execution_count": 49,
     "metadata": {},
     "output_type": "execute_result"
    },
    {
     "data": {
      "image/png": "[encoded data removed]",
      "text/plain": [
       "<Figure size 640x480 with 1 Axes>"
      ]
     },
     "metadata": {},
     "output_type": "display_data"
    }
   ],
   "source": [
    "setpoint = 20\n",
    "\n",
    "inputData  = [val for val in np.arange(0, setpoint, 0.5)] + [val for val in np.arange(setpoint, 0, -0.5)]\n",
    "outputData = [computeController(val, setpoint) for val in inputData]\n",
    "\n",
    "plt.plot(inputData, outputData)"
   ]
  },
  {
   "cell_type": "code",
   "execution_count": 51,
   "metadata": {},
   "outputs": [
    {
     "name": "stdout",
     "output_type": "stream",
     "text": [
      "#define MIN_OUT 19795.39764271524\n",
      "#define MAX_OUT 1422565.3028866444\n"
     ]
    }
   ],
   "source": [
    "print('#define MIN_OUT', min(outputData)) \n",
    "print('#define MAX_OUT', max(outputData))"
   ]
  }
 ],
 "metadata": {
  "kernelspec": {
   "display_name": "Python 3",
   "language": "python",
   "name": "python3"
  },
  "language_info": {
   "codemirror_mode": {
    "name": "ipython",
    "version": 3
   },
   "file_extension": ".py",
   "mimetype": "text/x-python",
   "name": "python",
   "nbconvert_exporter": "python",
   "pygments_lexer": "ipython3",
   "version": "3.10.12"
  }
 },
 "nbformat": 4,
 "nbformat_minor": 2
}
