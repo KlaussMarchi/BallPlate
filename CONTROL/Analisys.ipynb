{
 "cells": [
  {
   "cell_type": "code",
   "execution_count": 1,
   "metadata": {},
   "outputs": [],
   "source": [
    "import control as ctl\n",
    "import matplotlib.pyplot as plt\n",
    "import numpy as np\n",
    "import sympy as sp"
   ]
  },
  {
   "cell_type": "markdown",
   "metadata": {},
   "source": [
    "# INFORMAÇÕES DO SISTEMA\n",
    "- Declarando a função de transferência e obtendo os parâmetros"
   ]
  },
  {
   "cell_type": "code",
   "execution_count": 2,
   "metadata": {},
   "outputs": [
    {
     "data": {
      "text/latex": [
       "$$\\frac{0.006001 s + 0.1361}{s - 0.6043}$$"
      ],
      "text/plain": [
       "TransferFunction(array([0.00600129, 0.13612195]), array([ 1.        , -0.60428742]))"
      ]
     },
     "execution_count": 2,
     "metadata": {},
     "output_type": "execute_result"
    }
   ],
   "source": [
    "s = ctl.TransferFunction.s\n",
    "\n",
    "G = 0.136121951905*(0.0440876000589*s + 1.0)/(1.0*s - 0.6042874217)\n",
    "\n",
    "G_bpk = G\n",
    "G"
   ]
  },
  {
   "cell_type": "code",
   "execution_count": 3,
   "metadata": {},
   "outputs": [
    {
     "data": {
      "text/plain": [
       "[<matplotlib.lines.Line2D at 0x7f387359e4a0>]"
      ]
     },
     "execution_count": 3,
     "metadata": {},
     "output_type": "execute_result"
    },
    {
     "data": {
      "image/png": "[encoded data removed]",
      "text/plain": [
       "<Figure size 500x200 with 1 Axes>"
      ]
     },
     "metadata": {},
     "output_type": "display_data"
    }
   ],
   "source": [
    "time, response = ctl.step_response(G)\n",
    "plt.figure(figsize=(5, 2))\n",
    "plt.plot(time, response)"
   ]
  },
  {
   "cell_type": "markdown",
   "metadata": {},
   "source": [
    "- Encontrando as características da resposta transitória e permanente"
   ]
  },
  {
   "cell_type": "code",
   "execution_count": 4,
   "metadata": {},
   "outputs": [
    {
     "name": "stdout",
     "output_type": "stream",
     "text": [
      "overshoot:  0.0\n",
      "valor de pico:  231.03630674117352\n",
      "tempo de pico:  11.431241212251326\n",
      "tempo de assentamento:  None\n",
      "valor final:  231.03630674117352\n",
      "erro:  230.03630674117352\n"
     ]
    }
   ],
   "source": [
    "def getOvershoot(time, response):\n",
    "    peak_value = np.max(response)\n",
    "    steady_state_value = response[-1]\n",
    "    overshoot = (peak_value - steady_state_value) / steady_state_value\n",
    "    return 'inf' if overshoot < 0 or overshoot > 999 else overshoot\n",
    "\n",
    "def getZeta(overshoot):\n",
    "    return -np.log(overshoot) / np.sqrt((np.pi**2 + np.log(overshoot)**2))\n",
    "\n",
    "def getPeakTime(time, response):\n",
    "    return time[response == max(response)][0] #time[np.argmax(response)]\n",
    "\n",
    "def getError(response, setpoint=1):\n",
    "    return abs(setpoint - abs(response[-1]))\n",
    "\n",
    "def getSettlingTime(time, response, tolerance=0.02):\n",
    "    steady_state_value = np.mean(response[-50:])\n",
    "    settling_time = None\n",
    "    \n",
    "    if abs(steady_state_value) < 1e-6:\n",
    "        lower_bound = -tolerance\n",
    "        upper_bound = tolerance\n",
    "    else:\n",
    "        upper_bound = steady_state_value * (1 + tolerance)\n",
    "        lower_bound = steady_state_value * (1 - tolerance)\n",
    "    \n",
    "    for i in range(len(time)):\n",
    "        if lower_bound <= response[i] <= upper_bound:\n",
    "            if settling_time is None:\n",
    "                settling_time = time[i]\n",
    "        else:\n",
    "            settling_time = None\n",
    "    \n",
    "    return settling_time\n",
    "\n",
    "def getAllInfo(time, response, show=True, setpoint=1):\n",
    "    info = {\n",
    "        'overshoot': getOvershoot(time, response),\n",
    "        'peakValue': max(response),\n",
    "        'peakTime': getPeakTime(time, response),\n",
    "        'settlingTime': getSettlingTime(time, response),\n",
    "        'finalValue': response[-1],\n",
    "        'error': getError(response, setpoint)\n",
    "    }\n",
    "\n",
    "    if not show:\n",
    "        return info\n",
    "\n",
    "    print('overshoot: ', info['overshoot'])\n",
    "    print('valor de pico: ', info['peakValue'])\n",
    "    print('tempo de pico: ', info['peakTime'])\n",
    "    print('tempo de assentamento: ', info['settlingTime'])\n",
    "    print('valor final: ', info['finalValue'])\n",
    "    print('erro: ', info['error'])\n",
    "\n",
    "\n",
    "getAllInfo(time, response, setpoint=1)"
   ]
  },
  {
   "cell_type": "markdown",
   "metadata": {},
   "source": [
    "- Encontrando os polos do sistema"
   ]
  },
  {
   "cell_type": "code",
   "execution_count": 5,
   "metadata": {},
   "outputs": [
    {
     "data": {
      "text/plain": [
       "array([0.60428742+0.j])"
      ]
     },
     "execution_count": 5,
     "metadata": {},
     "output_type": "execute_result"
    }
   ],
   "source": [
    "polos = ctl.pole(G)\n",
    "polos"
   ]
  },
  {
   "cell_type": "code",
   "execution_count": 6,
   "metadata": {},
   "outputs": [
    {
     "data": {
      "image/png": "[encoded data removed]",
      "text/plain": [
       "<Figure size 600x300 with 1 Axes>"
      ]
     },
     "metadata": {},
     "output_type": "display_data"
    }
   ],
   "source": [
    "plt.figure(figsize=(6, 3))\n",
    "plt.scatter(np.real(polos), np.imag(polos), color='blue') \n",
    "plt.grid()\n",
    "plt.show()"
   ]
  },
  {
   "cell_type": "markdown",
   "metadata": {},
   "source": [
    "# ENCONTRANDO OS PARÂMETROS DESEJADOS\n",
    "- O primeiro parâmetero é que o erro seja nulo, ou seja $c(\\infty) = \\lim_{t \\to \\infty} c(t) = \\lim_{s \\to 0} s\\,C(s) = \\lim_{s \\to 0} s\\,G(s)R(s)= 0$\n",
    "\n",
    "- O segundo parâmetro se refere à resposta transitória do sistema, ou seja, queremos alguma informação da resposta transitória que nos dê $\\zeta$. Um bom parâmetro é o tempo de estabilização $T_s$, gostaria que $T_s$ fosse pequeno.\n",
    "\n",
    "$T_s = \\frac{4}{\\zeta \\omega_n} \\Rightarrow \\zeta = \\frac{4}{T_s\\,\\omega_n}$\n",
    "\n",
    "Mas $\\omega_n = \\frac{\\pi}{T_p\\sqrt{1-\\zeta²}}$\n",
    "\n",
    "Então $\\zeta = \\frac{4}{T_s\\,\\frac{\\pi}{T_p\\sqrt{1-\\zeta²}}}$\n",
    "\n",
    "Escolhendo $T_p = 0.2$ e $T_s = 0.4$, temos:"
   ]
  },
  {
   "cell_type": "code",
   "execution_count": 7,
   "metadata": {},
   "outputs": [
    {
     "data": {
      "text/latex": [
       "$\\displaystyle \\zeta = \\frac{2.0 \\sqrt{1 - \\zeta^{2}}}{\\pi}$"
      ],
      "text/plain": [
       "Eq(zeta, 2.0*sqrt(1 - zeta**2)/pi)"
      ]
     },
     "metadata": {},
     "output_type": "display_data"
    },
    {
     "data": {
      "text/plain": [
       "0.5370292721463151"
      ]
     },
     "execution_count": 7,
     "metadata": {},
     "output_type": "execute_result"
    }
   ],
   "source": [
    "Tp = 0.2\n",
    "Ts = 0.4\n",
    "zeta = sp.var('zeta')\n",
    "\n",
    "eq = sp.Eq(zeta, 4/(Ts*(sp.pi/(Tp*sp.sqrt(1-zeta**2)))))\n",
    "display(eq)\n",
    "\n",
    "zeta = float(sp.solve(eq)[0])\n",
    "zeta"
   ]
  },
  {
   "cell_type": "code",
   "execution_count": 8,
   "metadata": {},
   "outputs": [
    {
     "data": {
      "text/plain": [
       "18.620958891185865"
      ]
     },
     "execution_count": 8,
     "metadata": {},
     "output_type": "execute_result"
    }
   ],
   "source": [
    "Wn = np.pi/(Tp * np.sqrt(1 - zeta**2))\n",
    "Wn"
   ]
  },
  {
   "cell_type": "code",
   "execution_count": 9,
   "metadata": {},
   "outputs": [
    {
     "data": {
      "image/png": "[encoded data removed]",
      "text/plain": [
       "<Figure size 640x480 with 1 Axes>"
      ]
     },
     "metadata": {},
     "output_type": "display_data"
    }
   ],
   "source": [
    "def zGrid(G, zeta):\n",
    "    ctl.root_locus(G)\n",
    "\n",
    "    angle  = np.arccos(zeta)\n",
    "    radius = np.linspace(0, 100, 400)\n",
    "\n",
    "    x = radius * np.cos(angle)\n",
    "    y = radius * np.sin(angle)\n",
    "    \n",
    "    plt.plot(-x, y, 'r--')\n",
    "    plt.plot(-x, -y, 'r--')\n",
    "\n",
    "    plt.title(f'Root Locus with zeta = {zeta} line')\n",
    "    plt.xlabel('Real')\n",
    "    plt.ylabel('Imaginary')\n",
    "    plt.show()\n",
    "\n",
    "zGrid(G, zeta)"
   ]
  },
  {
   "cell_type": "markdown",
   "metadata": {},
   "source": [
    "- Como não há interseção de $\\zeta$ com o lugar geométrico, devemos encontrar o zeta de outra forma"
   ]
  },
  {
   "cell_type": "code",
   "execution_count": 10,
   "metadata": {},
   "outputs": [
    {
     "data": {
      "text/latex": [
       "$\\displaystyle -10.0 + 15.707963267949 i$"
      ],
      "text/plain": [
       "-10.0 + 15.707963267949*I"
      ]
     },
     "execution_count": 10,
     "metadata": {},
     "output_type": "execute_result"
    }
   ],
   "source": [
    "s1 = -zeta*Wn + Wn*np.sqrt(1-zeta**2)*sp.I\n",
    "s2 = -zeta*Wn - Wn*np.sqrt(1-zeta**2)*sp.I\n",
    "\n",
    "s_desired = s1\n",
    "s_desired"
   ]
  },
  {
   "cell_type": "markdown",
   "metadata": {},
   "source": [
    "# IMPLEMENTANDO O CONTROLADOR PID\n",
    "- Encontrando as constantes do controlador: $C(s) = K\\frac{(s-a)(s-b)}{s}$"
   ]
  },
  {
   "cell_type": "code",
   "execution_count": 11,
   "metadata": {},
   "outputs": [],
   "source": [
    "def sympyFunction(tf):\n",
    "    num, den = ctl.tfdata(tf)\n",
    "    \n",
    "    s = sp.var('s')\n",
    "    num_expr = sum(coef*s**i for i, coef in enumerate(num[0][0][::-1]))\n",
    "    den_expr = sum(coef*s**i for i, coef in enumerate(den[0][0][::-1]))\n",
    "    sympy_system = num_expr/den_expr\n",
    "\n",
    "    return sympy_system\n",
    "\n",
    "def roundSympyFunction(expr, num_digits=15):\n",
    "    return expr.xreplace({n: round(n, num_digits) for n in expr.atoms(sp.Float)})"
   ]
  },
  {
   "cell_type": "code",
   "execution_count": 12,
   "metadata": {},
   "outputs": [
    {
     "data": {
      "text/latex": [
       "$\\displaystyle \\frac{0.00600129017482446 s + 0.136121951905}{1.0 s - 0.6042874217}$"
      ],
      "text/plain": [
       "(0.00600129017482446*s + 0.136121951905)/(1.0*s - 0.6042874217)"
      ]
     },
     "execution_count": 12,
     "metadata": {},
     "output_type": "execute_result"
    }
   ],
   "source": [
    "s = sp.symbols('s')\n",
    "K, a, b = sp.symbols('K a b', real=True)\n",
    "\n",
    "G = sympyFunction(G)\n",
    "G"
   ]
  },
  {
   "cell_type": "markdown",
   "metadata": {},
   "source": [
    "- A função de transferência final em malha aberta será $G(s)C(s)$"
   ]
  },
  {
   "cell_type": "code",
   "execution_count": 13,
   "metadata": {},
   "outputs": [
    {
     "data": {
      "text/latex": [
       "$\\displaystyle \\frac{K \\left(- a + s\\right) \\left(- b + s\\right) \\left(0.00600129017482446 s + 0.136121951905\\right)}{s \\left(1.0 s - 0.6042874217\\right)}$"
      ],
      "text/plain": [
       "K*(-a + s)*(-b + s)*(0.00600129017482446*s + 0.136121951905)/(s*(1.0*s - 0.6042874217))"
      ]
     },
     "execution_count": 13,
     "metadata": {},
     "output_type": "execute_result"
    }
   ],
   "source": [
    "C = K * (s - a) * (s - b) / s\n",
    "GC = G * C\n",
    "\n",
    "GC"
   ]
  },
  {
   "cell_type": "code",
   "execution_count": 14,
   "metadata": {},
   "outputs": [],
   "source": [
    "ZERO = 1e-10"
   ]
  },
  {
   "cell_type": "markdown",
   "metadata": {},
   "source": [
    "- Erro em regime permanente para entrada em degrau é igual a zero (malha fechada)\n",
    "\n",
    "$erro = \\frac{1}{1+K_p}$ onde $K_p = \\lim_{s\\to 0} G(s)$"
   ]
  },
  {
   "cell_type": "code",
   "execution_count": 15,
   "metadata": {},
   "outputs": [
    {
     "data": {
      "text/latex": [
       "$\\displaystyle \\frac{1}{K \\left(- 2252602768.81461 a b + 0.225260276881461 a + 0.225260276881461 b - 2.25260276881461 \\cdot 10^{-11}\\right) + 1} = 1.0 \\cdot 10^{-10}$"
      ],
      "text/plain": [
       "Eq(1/(K*(-2252602768.81461*a*b + 0.225260276881461*a + 0.225260276881461*b - 2.25260276881461e-11) + 1), 1.0e-10)"
      ]
     },
     "execution_count": 15,
     "metadata": {},
     "output_type": "execute_result"
    }
   ],
   "source": [
    "Kp  = GC.subs(s, ZERO).expand().simplify()\n",
    "eq1 = 1/(1 + Kp)\n",
    "eq1 = sp.Eq(eq1, ZERO)\n",
    "eq1"
   ]
  },
  {
   "cell_type": "markdown",
   "metadata": {},
   "source": [
    "- A soma dos angulos da função de transferência em malha aberta + 180º é igual a zero para o $s$ desejado"
   ]
  },
  {
   "cell_type": "code",
   "execution_count": 16,
   "metadata": {},
   "outputs": [
    {
     "data": {
      "text/latex": [
       "$\\displaystyle \\arg{\\left(K \\left(0.0761090501567554 + 0.0942680456264457 i\\right) \\left(10.0 + 15.707963267949 i\\right) \\left(10.6042874217 + 15.707963267949 i\\right) \\left(- a - 10.0 + 15.707963267949 i\\right) \\left(- b - 10.0 + 15.707963267949 i\\right) \\right)} + \\pi = 1.0 \\cdot 10^{-10}$"
      ],
      "text/plain": [
       "Eq(arg(K*(0.0761090501567554 + 0.0942680456264457*I)*(10.0 + 15.707963267949*I)*(10.6042874217 + 15.707963267949*I)*(-a - 10.0 + 15.707963267949*I)*(-b - 10.0 + 15.707963267949*I)) + pi, 1.0e-10)"
      ]
     },
     "execution_count": 16,
     "metadata": {},
     "output_type": "execute_result"
    }
   ],
   "source": [
    "G_aux = GC.subs(s, s_desired)\n",
    "angle = sp.arg(G_aux)\n",
    "\n",
    "eq2 = sp.Eq(angle + sp.pi, ZERO)\n",
    "eq2"
   ]
  },
  {
   "cell_type": "markdown",
   "metadata": {},
   "source": [
    "- O módulo da função de transferência em malha aberta é igual a 1 para o $s$ desejado"
   ]
  },
  {
   "cell_type": "code",
   "execution_count": 17,
   "metadata": {},
   "outputs": [
    {
     "data": {
      "text/latex": [
       "$\\displaystyle 0.11903873652785 \\sqrt{0.00288400439142001 a^{2} + 0.0576800878284002 a + 1} \\sqrt{0.00288400439142001 b^{2} + 0.0576800878284002 b + 1} \\left|{K}\\right| - 1 = 1.0 \\cdot 10^{-10}$"
      ],
      "text/plain": [
       "Eq(0.11903873652785*sqrt(0.00288400439142001*a**2 + 0.0576800878284002*a + 1)*sqrt(0.00288400439142001*b**2 + 0.0576800878284002*b + 1)*Abs(K) - 1, 1.0e-10)"
      ]
     },
     "execution_count": 17,
     "metadata": {},
     "output_type": "execute_result"
    }
   ],
   "source": [
    "G_aux  = GC.subs(s, s_desired)\n",
    "modulo = sp.Abs(G_aux).expand().simplify()\n",
    "eq3    = sp.Eq(modulo - 1, ZERO)\n",
    "eq3"
   ]
  },
  {
   "cell_type": "code",
   "execution_count": 18,
   "metadata": {},
   "outputs": [
    {
     "name": "stdout",
     "output_type": "stream",
     "text": [
      "1/(K*(-2252602768.81461*a*b + 0.225260276881461*a + 0.225260276881461*b - 2.25260276881461e-11) + 1)\n",
      "np.angle(K*(0.0761090501567554 + 0.0942680456264457j)*(10.0 + 15.707963267949j)*(10.6042874217 + 15.707963267949j)*(-a - 10.0 + 15.707963267949j)*(-b - 10.0 + 15.707963267949j)) + np.pi\n",
      "0.11903873652785*np.sqrt(0.00288400439142001*a**2 + 0.0576800878284002*a + 1)*np.sqrt(0.00288400439142001*b**2 + 0.0576800878284002*b + 1)*np.abs(K) - 1\n"
     ]
    }
   ],
   "source": [
    "def convertString(eq):\n",
    "    return str(eq.lhs).replace('sqrt', 'np.sqrt').replace('Abs', 'np.abs').replace('pi', 'np.pi').replace('arg', 'np.angle').replace('*I', 'j').replace('I)', '1j)')\n",
    "\n",
    "str_eq1 = convertString(eq1)\n",
    "str_eq2 = convertString(eq2)\n",
    "str_eq3 = convertString(eq3)\n",
    "\n",
    "print(str_eq1)\n",
    "print(str_eq2)\n",
    "print(str_eq3)"
   ]
  },
  {
   "cell_type": "code",
   "execution_count": 19,
   "metadata": {},
   "outputs": [
    {
     "name": "stdout",
     "output_type": "stream",
     "text": [
      "Solucoes: [  0.54550156 -81.32374082 -81.06058001] \n",
      "\n"
     ]
    },
    {
     "name": "stderr",
     "output_type": "stream",
     "text": [
      "/home/klauss/.local/lib/python3.10/site-packages/scipy/optimize/_minpack_py.py:177: RuntimeWarning: The iteration is not making good progress, as measured by the \n",
      "  improvement from the last five Jacobian evaluations.\n",
      "  warnings.warn(msg, RuntimeWarning)\n"
     ]
    }
   ],
   "source": [
    "from scipy.optimize import fsolve\n",
    "import numpy as np\n",
    "\n",
    "def sistema(variaveis):\n",
    "    (K, a, b) = variaveis\n",
    "    return [\n",
    "        eval(str_eq1), \n",
    "        eval(str_eq2),\n",
    "        eval(str_eq3)\n",
    "    ]\n",
    "\n",
    "solutions = fsolve(sistema, [1, 1, 1], maxfev=10000, xtol=ZERO)\n",
    "print('Solucoes:', solutions, '\\n')"
   ]
  },
  {
   "cell_type": "code",
   "execution_count": 20,
   "metadata": {},
   "outputs": [
    {
     "name": "stdout",
     "output_type": "stream",
     "text": [
      "-1.234503523108524e-13\n",
      "0.16518166171218956\n",
      "-0.004623406365491856\n"
     ]
    }
   ],
   "source": [
    "for eq in [eq1, eq2, eq3]:\n",
    "    sol = eq.lhs.subs({\n",
    "        K: solutions[0],\n",
    "        a: solutions[1],\n",
    "        b: solutions[2]\n",
    "    })\n",
    "    print(float(sol))"
   ]
  },
  {
   "cell_type": "code",
   "execution_count": 21,
   "metadata": {},
   "outputs": [
    {
     "data": {
      "text/plain": [
       "(0.5455015616258723, -81.32374082380792, -81.06058001048476)"
      ]
     },
     "execution_count": 21,
     "metadata": {},
     "output_type": "execute_result"
    }
   ],
   "source": [
    "K = solutions[0]\n",
    "a = solutions[1]\n",
    "b = solutions[2]\n",
    "\n",
    "K, a, b"
   ]
  },
  {
   "cell_type": "code",
   "execution_count": 22,
   "metadata": {},
   "outputs": [
    {
     "data": {
      "text/latex": [
       "$$\\frac{0.5455 s^2 + 88.58 s + 3596}{s}$$"
      ],
      "text/plain": [
       "TransferFunction(array([5.45501562e-01, 8.85809006e+01, 3.59602790e+03]), array([1, 0]))"
      ]
     },
     "execution_count": 22,
     "metadata": {},
     "output_type": "execute_result"
    }
   ],
   "source": [
    "s = ctl.TransferFunction.s\n",
    "\n",
    "C = K * (s - a) * (s - b) / s\n",
    "C"
   ]
  },
  {
   "cell_type": "code",
   "execution_count": 23,
   "metadata": {},
   "outputs": [
    {
     "data": {
      "text/latex": [
       "$$\\frac{0.003274 s^3 + 0.6059 s^2 + 33.64 s + 489.5}{s^2 - 0.6043 s}$$"
      ],
      "text/plain": [
       "TransferFunction(array([3.27371316e-03, 6.05854426e-01, 3.36386120e+01, 4.89498337e+02]), array([ 1.        , -0.60428742,  0.        ]))"
      ]
     },
     "execution_count": 23,
     "metadata": {},
     "output_type": "execute_result"
    }
   ],
   "source": [
    "G  = G_bpk\n",
    "GC = G*C\n",
    "GC"
   ]
  },
  {
   "cell_type": "code",
   "execution_count": 24,
   "metadata": {},
   "outputs": [
    {
     "data": {
      "text/latex": [
       "$$\\frac{0.003274 s^3 + 0.6059 s^2 + 33.64 s + 489.5}{0.003274 s^3 + 1.606 s^2 + 33.03 s + 489.5}$$"
      ],
      "text/plain": [
       "TransferFunction(array([3.27371316e-03, 6.05854426e-01, 3.36386120e+01, 4.89498337e+02]), array([3.27371316e-03, 1.60585443e+00, 3.30343246e+01, 4.89498337e+02]))"
      ]
     },
     "execution_count": 24,
     "metadata": {},
     "output_type": "execute_result"
    }
   ],
   "source": [
    "G_feedback = ctl.feedback(GC, 1)\n",
    "G_feedback"
   ]
  },
  {
   "cell_type": "code",
   "execution_count": 28,
   "metadata": {},
   "outputs": [
    {
     "data": {
      "image/png": "[encoded data removed]",
      "text/plain": [
       "<Figure size 640x480 with 1 Axes>"
      ]
     },
     "metadata": {},
     "output_type": "display_data"
    }
   ],
   "source": [
    "time, response = ctl.step_response(G_feedback)\n",
    "plt.plot(time, response, label='response')\n",
    "plt.plot(time, [1 for i in time], '--', label='setpoint')\n",
    "plt.legend()\n",
    "plt.grid()"
   ]
  },
  {
   "cell_type": "code",
   "execution_count": 26,
   "metadata": {},
   "outputs": [
    {
     "name": "stdout",
     "output_type": "stream",
     "text": [
      "overshoot:  0.17260341280767952\n",
      "valor de pico:  1.1732718914333242\n",
      "tempo de pico:  0.1311650019928794\n",
      "tempo de assentamento:  0.25733044112952796\n",
      "valor final:  1.0005700807437052\n",
      "erro:  0.0005700807437052369\n"
     ]
    }
   ],
   "source": [
    "getAllInfo(time, response, setpoint=1)"
   ]
  }
 ],
 "metadata": {
  "kernelspec": {
   "display_name": "Python 3",
   "language": "python",
   "name": "python3"
  },
  "language_info": {
   "codemirror_mode": {
    "name": "ipython",
    "version": 3
   },
   "file_extension": ".py",
   "mimetype": "text/x-python",
   "name": "python",
   "nbconvert_exporter": "python",
   "pygments_lexer": "ipython3",
   "version": "3.10.12"
  }
 },
 "nbformat": 4,
 "nbformat_minor": 2
}
