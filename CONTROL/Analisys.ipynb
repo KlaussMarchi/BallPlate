{
 "cells": [
  {
   "cell_type": "code",
   "execution_count": 1743,
   "metadata": {},
   "outputs": [],
   "source": [
    "import control as ctl\n",
    "import matplotlib.pyplot as plt\n",
    "import numpy as np\n",
    "import sympy as sp\n",
    "from scipy.optimize import fsolve"
   ]
  },
  {
   "cell_type": "markdown",
   "metadata": {},
   "source": [
    "# INFORMAÇÕES DO SISTEMA\n",
    "- Declarando a função de transferência e obtendo os parâmetros"
   ]
  },
  {
   "cell_type": "code",
   "execution_count": 1744,
   "metadata": {},
   "outputs": [
    {
     "data": {
      "text/latex": [
       "$$\\frac{0.004327 s^2 - 0.01083 s + 0.02411}{0.1795 s^2 - 0.8472 s + 1}$$"
      ],
      "text/plain": [
       "TransferFunction(array([ 0.00432667, -0.01083479,  0.02410971]), array([ 0.1794575 , -0.84724848,  1.        ]))"
      ]
     },
     "execution_count": 1744,
     "metadata": {},
     "output_type": "execute_result"
    }
   ],
   "source": [
    "s = ctl.TransferFunction.s\n",
    "G = 0.0241097084013745*(0.179457496*s**2 - 0.44939551*s + 1.0)/(0.1794575*s**2 - 0.84724848*s + 1.0)\n",
    "\n",
    "G_bpk = G\n",
    "G"
   ]
  },
  {
   "cell_type": "code",
   "execution_count": 1745,
   "metadata": {},
   "outputs": [
    {
     "data": {
      "text/plain": [
       "[<matplotlib.lines.Line2D at 0x27427d13e50>]"
      ]
     },
     "execution_count": 1745,
     "metadata": {},
     "output_type": "execute_result"
    },
    {
     "data": {
      "image/png": "[encoded data removed]",
      "text/plain": [
       "<Figure size 500x200 with 1 Axes>"
      ]
     },
     "metadata": {},
     "output_type": "display_data"
    }
   ],
   "source": [
    "time, response = ctl.step_response(G)\n",
    "plt.figure(figsize=(5, 2))\n",
    "plt.plot(time, response)"
   ]
  },
  {
   "cell_type": "markdown",
   "metadata": {},
   "source": [
    "- Encontrando as características da resposta transitória e permanente"
   ]
  },
  {
   "cell_type": "code",
   "execution_count": 1746,
   "metadata": {},
   "outputs": [
    {
     "name": "stdout",
     "output_type": "stream",
     "text": [
      "overshoot:  0.0\n",
      "valor de pico:  156.4363109058122\n",
      "tempo de pico:  2.926292633721661\n",
      "tempo de assentamento:  None\n",
      "valor final:  156.4363109058122\n",
      "erro:  155.4363109058122\n"
     ]
    }
   ],
   "source": [
    "def getOvershoot(time, response):\n",
    "    peak_value = np.max(response)\n",
    "    steady_state_value = response[-1]\n",
    "    overshoot = (peak_value - steady_state_value) / steady_state_value\n",
    "    return 'inf' if overshoot < 0 or overshoot > 999 else overshoot\n",
    "\n",
    "def getZeta(overshoot):\n",
    "    return -np.log(overshoot) / np.sqrt((np.pi**2 + np.log(overshoot)**2))\n",
    "\n",
    "def getPeakTime(time, response):\n",
    "    return time[response == max(response)][0] #time[np.argmax(response)]\n",
    "\n",
    "def getError(response, setpoint=1):\n",
    "    return abs(setpoint - abs(response[-1]))\n",
    "\n",
    "def getSettlingTime(time, response, tolerance=0.02):\n",
    "    steady_state_value = np.mean(response[-50:])\n",
    "    settling_time = None\n",
    "    \n",
    "    if abs(steady_state_value) < 1e-6:\n",
    "        lower_bound = -tolerance\n",
    "        upper_bound = tolerance\n",
    "    else:\n",
    "        upper_bound = steady_state_value * (1 + tolerance)\n",
    "        lower_bound = steady_state_value * (1 - tolerance)\n",
    "    \n",
    "    for i in range(len(time)):\n",
    "        if lower_bound <= response[i] <= upper_bound:\n",
    "            if settling_time is None:\n",
    "                settling_time = time[i]\n",
    "        else:\n",
    "            settling_time = None\n",
    "    \n",
    "    return settling_time\n",
    "\n",
    "def getAllInfo(time, response, show=True, setpoint=1):\n",
    "    info = {\n",
    "        'overshoot': getOvershoot(time, response),\n",
    "        'peakValue': max(response),\n",
    "        'peakTime': getPeakTime(time, response),\n",
    "        'settlingTime': getSettlingTime(time, response),\n",
    "        'finalValue': response[-1],\n",
    "        'error': getError(response, setpoint)\n",
    "    }\n",
    "\n",
    "    if not show:\n",
    "        return info\n",
    "\n",
    "    print('overshoot: ', info['overshoot'])\n",
    "    print('valor de pico: ', info['peakValue'])\n",
    "    print('tempo de pico: ', info['peakTime'])\n",
    "    print('tempo de assentamento: ', info['settlingTime'])\n",
    "    print('valor final: ', info['finalValue'])\n",
    "    print('erro: ', info['error'])\n",
    "\n",
    "\n",
    "getAllInfo(time, response, setpoint=1)"
   ]
  },
  {
   "cell_type": "markdown",
   "metadata": {},
   "source": [
    "- Encontrando os polos do sistema"
   ]
  },
  {
   "cell_type": "code",
   "execution_count": 1747,
   "metadata": {},
   "outputs": [
    {
     "name": "stdout",
     "output_type": "stream",
     "text": [
      "[2.36058253+0.00031935j 2.36058253-0.00031935j]\n",
      "[1.25209456+2.001152j 1.25209456-2.001152j]\n"
     ]
    }
   ],
   "source": [
    "polos = ctl.pole(G)\n",
    "zeros = ctl.zeros(G)\n",
    "\n",
    "print(polos)\n",
    "print(zeros)"
   ]
  },
  {
   "cell_type": "code",
   "execution_count": 1748,
   "metadata": {},
   "outputs": [
    {
     "data": {
      "text/plain": [
       "1.2520945628261746"
      ]
     },
     "execution_count": 1748,
     "metadata": {},
     "output_type": "execute_result"
    }
   ],
   "source": [
    "most_distant_pole = np.real(min([min(polos), min(zeros)]))\n",
    "most_distant_pole"
   ]
  },
  {
   "cell_type": "markdown",
   "metadata": {},
   "source": [
    "# ENCONTRANDO OS PARÂMETROS DESEJADOS\n",
    "- O primeiro parâmetero é que o erro seja nulo, ou seja $c(\\infty) = \\lim_{t \\to \\infty} c(t) = \\lim_{s \\to 0} s\\,C(s) = \\lim_{s \\to 0} s\\,G(s)R(s)= 0$\n",
    "\n",
    "- O segundo parâmetro se refere à resposta transitória do sistema, ou seja, queremos alguma informação da resposta transitória que nos dê $\\zeta$. Um bom parâmetro é o tempo de estabilização $T_s$, gostaria que $T_s$ fosse pequeno.\n",
    "\n",
    "$\\omega_n = \\frac{2\\pi}{T_s}$\n"
   ]
  },
  {
   "cell_type": "code",
   "execution_count": 1749,
   "metadata": {},
   "outputs": [],
   "source": [
    "Ts = 10\n",
    "UP = .2"
   ]
  },
  {
   "cell_type": "code",
   "execution_count": 1750,
   "metadata": {},
   "outputs": [
    {
     "data": {
      "text/plain": [
       "0.4559498107691261"
      ]
     },
     "execution_count": 1750,
     "metadata": {},
     "output_type": "execute_result"
    }
   ],
   "source": [
    "zeta = -np.log(UP)/np.sqrt(np.pi**2 + np.log(UP)**2)\n",
    "zeta"
   ]
  },
  {
   "cell_type": "code",
   "execution_count": 1751,
   "metadata": {},
   "outputs": [
    {
     "data": {
      "text/plain": [
       "0.6283185307179586"
      ]
     },
     "execution_count": 1751,
     "metadata": {},
     "output_type": "execute_result"
    }
   ],
   "source": [
    "Wn = 2*np.pi/Ts\n",
    "Wn"
   ]
  },
  {
   "cell_type": "markdown",
   "metadata": {},
   "source": [
    "- Uma maneira de encontrar o polo desejado $s_D$ para o controlador é encontrando a interseção da linha vertical projetada por $\\zeta$ com o caminho percorrido pelo LGR"
   ]
  },
  {
   "cell_type": "code",
   "execution_count": 1752,
   "metadata": {},
   "outputs": [
    {
     "data": {
      "image/png": "[encoded data removed]",
      "text/plain": [
       "<Figure size 640x480 with 1 Axes>"
      ]
     },
     "metadata": {},
     "output_type": "display_data"
    }
   ],
   "source": [
    "def zGrid(G, zeta):\n",
    "    ctl.root_locus(G)\n",
    "\n",
    "    angle  = np.arccos(zeta)\n",
    "    radius = np.linspace(0, 100, 400)\n",
    "\n",
    "    x = radius * np.cos(angle)\n",
    "    y = radius * np.sin(angle)\n",
    "    \n",
    "    plt.plot(-x, y, 'r--')\n",
    "    plt.plot(-x, -y, 'r--')\n",
    "\n",
    "    plt.title(f'Root Locus with zeta = {zeta} line')\n",
    "    plt.xlabel('Real')\n",
    "    plt.ylabel('Imaginary')\n",
    "    plt.show()\n",
    "\n",
    "zGrid(G, zeta)"
   ]
  },
  {
   "cell_type": "markdown",
   "metadata": {},
   "source": [
    "- Uma outra forma é usar a relação: $s = -\\zeta\\omega_n \\pm \\omega_n\\sqrt{1-\\zeta^2}j$"
   ]
  },
  {
   "cell_type": "code",
   "execution_count": 1753,
   "metadata": {},
   "outputs": [
    {
     "data": {
      "text/latex": [
       "$\\displaystyle -0.286481715183589 + 0.559206941041546 i$"
      ],
      "text/plain": [
       "-0.286481715183589 + 0.559206941041546*I"
      ]
     },
     "execution_count": 1753,
     "metadata": {},
     "output_type": "execute_result"
    }
   ],
   "source": [
    "s1 = -zeta*Wn + Wn*np.sqrt(1-zeta**2)*sp.I\n",
    "s2 = -zeta*Wn - Wn*np.sqrt(1-zeta**2)*sp.I\n",
    "\n",
    "s_desired = s1\n",
    "s_desired"
   ]
  },
  {
   "cell_type": "markdown",
   "metadata": {},
   "source": [
    "# IMPLEMENTANDO O CONTROLADOR PID\n",
    "- Encontrando as constantes do controlador: $C(s) = K\\frac{(s-a)(s-b)}{s}$"
   ]
  },
  {
   "cell_type": "code",
   "execution_count": 1754,
   "metadata": {},
   "outputs": [],
   "source": [
    "def sympyFunction(tf):\n",
    "    num, den = ctl.tfdata(tf)\n",
    "    s = sp.var('s')\n",
    "    num_expr = sum(coef*s**i for i, coef in enumerate(num[0][0][::-1]))\n",
    "    den_expr = sum(coef*s**i for i, coef in enumerate(den[0][0][::-1]))\n",
    "    sympy_system = num_expr/den_expr\n",
    "    return sympy_system\n",
    "\n",
    "def roundSympyFunction(expr, num_digits=15):\n",
    "    return expr.xreplace({n: round(n, num_digits) for n in expr.atoms(sp.Float)})"
   ]
  },
  {
   "cell_type": "code",
   "execution_count": 1755,
   "metadata": {},
   "outputs": [
    {
     "data": {
      "text/latex": [
       "$\\displaystyle \\frac{0.00432666789900083 s^{2} - 0.010834794702987 s + 0.0241097084013745}{0.1794575 s^{2} - 0.84724848 s + 1.0}$"
      ],
      "text/plain": [
       "(0.00432666789900083*s**2 - 0.010834794702987*s + 0.0241097084013745)/(0.1794575*s**2 - 0.84724848*s + 1.0)"
      ]
     },
     "execution_count": 1755,
     "metadata": {},
     "output_type": "execute_result"
    }
   ],
   "source": [
    "s = sp.symbols('s')\n",
    "K, a, b, p = sp.symbols('K a b p', real=True)\n",
    "\n",
    "G = sympyFunction(G)\n",
    "G"
   ]
  },
  {
   "cell_type": "markdown",
   "metadata": {},
   "source": [
    "- A função de transferência final em malha aberta será $G(s)C(s)$\n",
    "- O $p$ tem que ser de 5 a 10 vezes mais distante do que os polos e zeros do controlador"
   ]
  },
  {
   "cell_type": "code",
   "execution_count": 1756,
   "metadata": {},
   "outputs": [
    {
     "data": {
      "text/latex": [
       "$\\displaystyle \\frac{K \\left(- a + s\\right) \\left(- b + s\\right) \\left(0.00432666789900083 s^{2} - 0.010834794702987 s + 0.0241097084013745\\right)}{s \\left(s + 10\\right) \\left(0.1794575 s^{2} - 0.84724848 s + 1.0\\right)}$"
      ],
      "text/plain": [
       "K*(-a + s)*(-b + s)*(0.00432666789900083*s**2 - 0.010834794702987*s + 0.0241097084013745)/(s*(s + 10)*(0.1794575*s**2 - 0.84724848*s + 1.0))"
      ]
     },
     "execution_count": 1756,
     "metadata": {},
     "output_type": "execute_result"
    }
   ],
   "source": [
    "C = K * ((s - a) * (s - b)) / (s * (s + 10))\n",
    "GC = G * C\n",
    "\n",
    "GC"
   ]
  },
  {
   "cell_type": "code",
   "execution_count": 1757,
   "metadata": {},
   "outputs": [],
   "source": [
    "ZERO = 1e-10"
   ]
  },
  {
   "cell_type": "markdown",
   "metadata": {},
   "source": [
    "- Erro em regime permanente para entrada em degrau é igual a zero (malha fechada)\n",
    "\n",
    "$erro = \\frac{1}{1+K_p}$ onde $K_p = \\lim_{s\\to 0} G(s)$"
   ]
  },
  {
   "cell_type": "code",
   "execution_count": 1758,
   "metadata": {},
   "outputs": [
    {
     "data": {
      "text/latex": [
       "$\\displaystyle \\frac{1}{K \\left(24109708.4020926 a b - 0.00241097084020926 a - 0.00241097084020926 b + 2.41097084020926 \\cdot 10^{-13}\\right) + 1} = 1.0 \\cdot 10^{-10}$"
      ],
      "text/plain": [
       "Eq(1/(K*(24109708.4020926*a*b - 0.00241097084020926*a - 0.00241097084020926*b + 2.41097084020926e-13) + 1), 1.0e-10)"
      ]
     },
     "execution_count": 1758,
     "metadata": {},
     "output_type": "execute_result"
    }
   ],
   "source": [
    "Kp  = GC.subs(s, ZERO).expand().simplify()\n",
    "eq1 = 1/(1 + Kp)\n",
    "eq1 = sp.Eq(eq1, ZERO)\n",
    "eq1"
   ]
  },
  {
   "cell_type": "markdown",
   "metadata": {},
   "source": [
    "- A soma dos angulos da função de transferência em malha aberta + 180º é igual a zero para o $s$ desejado"
   ]
  },
  {
   "cell_type": "code",
   "execution_count": 1759,
   "metadata": {},
   "outputs": [
    {
     "data": {
      "text/latex": [
       "$\\displaystyle \\arg{\\left(- \\frac{K \\left(0.286481715183589 + 0.559206941041546 i\\right) \\left(9.71351828481641 - 0.559206941041546 i\\right) \\left(0.0272136789715483 - 0.0060588924026705 i + 0.00432666789900083 \\left(-0.286481715183589 + 0.559206941041546 i\\right)^{2}\\right) \\left(- a - 0.286481715183589 + 0.559206941041546 i\\right) \\left(- b - 0.286481715183589 + 0.559206941041546 i\\right)}{1.24272119773709 - 0.4737872308029 i + 0.1794575 \\left(-0.286481715183589 + 0.559206941041546 i\\right)^{2}} \\right)} + \\pi = 1.0 \\cdot 10^{-10}$"
      ],
      "text/plain": [
       "Eq(arg(-K*(0.286481715183589 + 0.559206941041546*I)*(9.71351828481641 - 0.559206941041546*I)*(0.0272136789715483 - 0.0060588924026705*I + 0.00432666789900083*(-0.286481715183589 + 0.559206941041546*I)**2)*(-a - 0.286481715183589 + 0.559206941041546*I)*(-b - 0.286481715183589 + 0.559206941041546*I)/(1.24272119773709 - 0.4737872308029*I + 0.1794575*(-0.286481715183589 + 0.559206941041546*I)**2)) + pi, 1.0e-10)"
      ]
     },
     "execution_count": 1759,
     "metadata": {},
     "output_type": "execute_result"
    }
   ],
   "source": [
    "G_aux = GC.subs(s, s_desired)\n",
    "angle = sp.arg(G_aux)\n",
    "\n",
    "eq2 = sp.Eq(angle + sp.pi, ZERO)\n",
    "eq2"
   ]
  },
  {
   "cell_type": "markdown",
   "metadata": {},
   "source": [
    "- O módulo da função de transferência em malha aberta é igual a 1 para o $s$ desejado"
   ]
  },
  {
   "cell_type": "code",
   "execution_count": 1760,
   "metadata": {},
   "outputs": [
    {
     "data": {
      "text/latex": [
       "$\\displaystyle 0.00339373887172597 \\sqrt{a^{2} + 0.572963430367177 a + 0.394784176043574} \\sqrt{b^{2} + 0.572963430367177 b + 0.394784176043574} \\left|{K}\\right| - 1 = 1.0 \\cdot 10^{-10}$"
      ],
      "text/plain": [
       "Eq(0.00339373887172597*sqrt(a**2 + 0.572963430367177*a + 0.394784176043574)*sqrt(b**2 + 0.572963430367177*b + 0.394784176043574)*Abs(K) - 1, 1.0e-10)"
      ]
     },
     "execution_count": 1760,
     "metadata": {},
     "output_type": "execute_result"
    }
   ],
   "source": [
    "G_aux  = GC.subs(s, s_desired)\n",
    "modulo = sp.Abs(G_aux).expand().simplify()\n",
    "eq3    = sp.Eq(modulo - 1, ZERO)\n",
    "eq3"
   ]
  },
  {
   "cell_type": "code",
   "execution_count": 1761,
   "metadata": {},
   "outputs": [
    {
     "name": "stdout",
     "output_type": "stream",
     "text": [
      "1/(K*(24109708.4020926*a*b - 0.00241097084020926*a - 0.00241097084020926*b + 2.41097084020926e-13) + 1)\n",
      "np.angle(-K*(0.286481715183589 + 0.559206941041546j)*(9.71351828481641 - 0.559206941041546j)*(0.0272136789715483 - 0.0060588924026705j + 0.00432666789900083*(-0.286481715183589 + 0.559206941041546j)**2)*(-a - 0.286481715183589 + 0.559206941041546j)*(-b - 0.286481715183589 + 0.559206941041546j)/(1.24272119773709 - 0.4737872308029j + 0.1794575*(-0.286481715183589 + 0.559206941041546j)**2)) + np.pi\n",
      "0.00339373887172597*np.sqrt(a**2 + 0.572963430367177*a + 0.394784176043574)*np.sqrt(b**2 + 0.572963430367177*b + 0.394784176043574)*np.abs(K) - 1\n"
     ]
    }
   ],
   "source": [
    "def convertString(eq):\n",
    "    return str(eq.lhs).replace('sqrt', 'np.sqrt').replace('Abs', 'np.abs').replace('pi', 'np.pi').replace('arg', 'np.angle').replace('*I', 'j').replace('I)', '1j)')\n",
    "\n",
    "str_eq1 = convertString(eq1)\n",
    "str_eq2 = convertString(eq2)\n",
    "str_eq3 = convertString(eq3)\n",
    "\n",
    "print(str_eq1)\n",
    "print(str_eq2)\n",
    "print(str_eq3)"
   ]
  },
  {
   "cell_type": "code",
   "execution_count": 1762,
   "metadata": {},
   "outputs": [
    {
     "name": "stdout",
     "output_type": "stream",
     "text": [
      "Solucoes: [287.89977411   0.44840928   0.67030514] \n",
      "\n"
     ]
    }
   ],
   "source": [
    "def sistema(variaveis):\n",
    "    (K, a, b) = variaveis\n",
    "    return [\n",
    "        eval(str_eq1), \n",
    "        eval(str_eq2),\n",
    "        eval(str_eq3)\n",
    "    ]\n",
    "\n",
    "solutions = fsolve(sistema, [1, 1, 1], maxfev=100000, xtol=ZERO)\n",
    "print('Solucoes:', solutions, '\\n')"
   ]
  },
  {
   "cell_type": "code",
   "execution_count": 1763,
   "metadata": {},
   "outputs": [
    {
     "name": "stdout",
     "output_type": "stream",
     "text": [
      "4.793134130404919e-10\n",
      "0.00014661414939293738\n",
      "-8.322975642782726e-05\n"
     ]
    }
   ],
   "source": [
    "for eq in [eq1, eq2, eq3]:\n",
    "    sol = eq.lhs.subs({\n",
    "        K: solutions[0],\n",
    "        a: solutions[1],\n",
    "        b: solutions[2]\n",
    "    })\n",
    "    print(float(sol))"
   ]
  },
  {
   "cell_type": "code",
   "execution_count": 1764,
   "metadata": {},
   "outputs": [],
   "source": [
    "K = solutions[0]\n",
    "a = solutions[1]\n",
    "b = solutions[2]"
   ]
  },
  {
   "cell_type": "markdown",
   "metadata": {},
   "source": [
    "- Função de transferência do controlador $C(s)$"
   ]
  },
  {
   "cell_type": "code",
   "execution_count": 1765,
   "metadata": {},
   "outputs": [
    {
     "name": "stdout",
     "output_type": "stream",
     "text": [
      "(287.899774108004*s**2 - 322.077626860205*s + 86.5343348444173)/(s**2 + 10*s)\n"
     ]
    },
    {
     "data": {
      "text/latex": [
       "$$\\frac{287.9 s^2 - 322.1 s + 86.53}{s^2 + 10 s}$$"
      ],
      "text/plain": [
       "TransferFunction(array([ 287.89977411, -322.07762686,   86.53433484]), array([ 1, 10,  0]))"
      ]
     },
     "execution_count": 1765,
     "metadata": {},
     "output_type": "execute_result"
    }
   ],
   "source": [
    "s = ctl.TransferFunction.s\n",
    "C = K * ((s - a) * (s - b)) / (s * (s + 10))\n",
    "\n",
    "print(sympyFunction(C))\n",
    "C"
   ]
  },
  {
   "cell_type": "markdown",
   "metadata": {},
   "source": [
    "- Função de transferência do sistema em malha aberta $C(s)G(s)$"
   ]
  },
  {
   "cell_type": "code",
   "execution_count": 1766,
   "metadata": {},
   "outputs": [
    {
     "data": {
      "text/latex": [
       "$$\\frac{1.246 s^4 - 4.513 s^3 + 10.81 s^2 - 8.703 s + 2.086}{0.1795 s^4 + 0.9473 s^3 - 7.472 s^2 + 10 s}$$"
      ],
      "text/plain": [
       "TransferFunction(array([ 1.24564671, -4.51285788, 10.8052299 , -8.70277942,  2.08631758]), array([ 0.1794575 ,  0.94732652, -7.4724848 , 10.        ,  0.        ]))"
      ]
     },
     "execution_count": 1766,
     "metadata": {},
     "output_type": "execute_result"
    }
   ],
   "source": [
    "G  = G_bpk\n",
    "GC = G*C\n",
    "GC"
   ]
  },
  {
   "cell_type": "markdown",
   "metadata": {},
   "source": [
    "- Função de transferência em malha fechada com realimentação unitária $G_{feedback}(s) = \\frac{G(s)C(s)}{1+G(s)C(s)}$"
   ]
  },
  {
   "cell_type": "code",
   "execution_count": 1767,
   "metadata": {},
   "outputs": [
    {
     "data": {
      "text/latex": [
       "$$\\frac{1.246 s^4 - 4.513 s^3 + 10.81 s^2 - 8.703 s + 2.086}{1.425 s^4 - 3.566 s^3 + 3.333 s^2 + 1.297 s + 2.086}$$"
      ],
      "text/plain": [
       "TransferFunction(array([ 1.24564671, -4.51285788, 10.8052299 , -8.70277942,  2.08631758]), array([ 1.42510421, -3.56553136,  3.3327451 ,  1.29722058,  2.08631758]))"
      ]
     },
     "execution_count": 1767,
     "metadata": {},
     "output_type": "execute_result"
    }
   ],
   "source": [
    "G_feedback = ctl.feedback(GC, 1)\n",
    "G_feedback"
   ]
  },
  {
   "cell_type": "code",
   "execution_count": 1768,
   "metadata": {},
   "outputs": [
    {
     "data": {
      "text/plain": [
       "array([ 1.53760864+1.15858891j,  1.53760864-1.15858891j,\n",
       "       -0.28663649+0.55929185j, -0.28663649-0.55929185j])"
      ]
     },
     "execution_count": 1768,
     "metadata": {},
     "output_type": "execute_result"
    }
   ],
   "source": [
    "ctl.poles(G_feedback)"
   ]
  },
  {
   "cell_type": "markdown",
   "metadata": {},
   "source": [
    "# APLICANDO UM STEP"
   ]
  },
  {
   "cell_type": "code",
   "execution_count": 1769,
   "metadata": {},
   "outputs": [
    {
     "data": {
      "image/png": "[encoded data removed]",
      "text/plain": [
       "<Figure size 640x480 with 1 Axes>"
      ]
     },
     "metadata": {},
     "output_type": "display_data"
    }
   ],
   "source": [
    "time, response = ctl.step_response(G_feedback)\n",
    "plt.plot(time, response, label='response')\n",
    "plt.plot(time, [1 for i in time], '--', label='setpoint')\n",
    "plt.legend()\n",
    "plt.grid()"
   ]
  },
  {
   "cell_type": "code",
   "execution_count": 1770,
   "metadata": {},
   "outputs": [
    {
     "name": "stdout",
     "output_type": "stream",
     "text": [
      "overshoot:  2.179423631723795\n",
      "valor de pico:  1883866288542424.8\n",
      "tempo de pico:  23.65141401138559\n",
      "tempo de assentamento:  None\n",
      "valor final:  592518175226949.9\n",
      "erro:  592518175226948.9\n"
     ]
    }
   ],
   "source": [
    "getAllInfo(time, response, setpoint=1)"
   ]
  },
  {
   "cell_type": "markdown",
   "metadata": {},
   "source": [
    "# APLICANDO VÁRIOS STEPS"
   ]
  },
  {
   "cell_type": "code",
   "execution_count": 1771,
   "metadata": {},
   "outputs": [
    {
     "data": {
      "image/png": "[encoded data removed]",
      "text/plain": [
       "<Figure size 1800x800 with 1 Axes>"
      ]
     },
     "metadata": {},
     "output_type": "display_data"
    }
   ],
   "source": [
    "uData = [100 for i in range(1000)] + [0 for i in range(1000)] + [-100 for i in range(1000)] + [50 for i in range(1000)]\n",
    "tData = np.linspace(0, 40, len(uData))\n",
    "\n",
    "plt.figure(figsize=(18, 8))\n",
    "time, response = ctl.forced_response(G_feedback, T=tData, U=uData)\n",
    "plt.plot(time, response, label='response')\n",
    "plt.legend()\n",
    "plt.grid()"
   ]
  }
 ],
 "metadata": {
  "kernelspec": {
   "display_name": "Python 3",
   "language": "python",
   "name": "python3"
  },
  "language_info": {
   "codemirror_mode": {
    "name": "ipython",
    "version": 3
   },
   "file_extension": ".py",
   "mimetype": "text/x-python",
   "name": "python",
   "nbconvert_exporter": "python",
   "pygments_lexer": "ipython3",
   "version": "3.11.4"
  }
 },
 "nbformat": 4,
 "nbformat_minor": 2
}
