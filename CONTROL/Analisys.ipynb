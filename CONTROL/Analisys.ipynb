{
 "cells": [
  {
   "cell_type": "code",
   "execution_count": 34,
   "metadata": {},
   "outputs": [],
   "source": [
    "import control as ctl\n",
    "import matplotlib.pyplot as plt\n",
    "import numpy as np\n",
    "import sympy as sp\n",
    "from scipy.optimize import fsolve\n",
    "from tbcontrol.symbolic import routh"
   ]
  },
  {
   "cell_type": "code",
   "execution_count": 35,
   "metadata": {},
   "outputs": [],
   "source": [
    "def sympyFunction(tf):\n",
    "    num, den = ctl.tfdata(tf)\n",
    "    s = sp.var('s')\n",
    "    num_expr = sum(coef*s**i for i, coef in enumerate(num[0][0][::-1]))\n",
    "    den_expr = sum(coef*s**i for i, coef in enumerate(den[0][0][::-1]))\n",
    "    sympy_system = num_expr/den_expr\n",
    "    return sympy_system\n",
    "\n",
    "def roundSympyFunction(expr, num_digits=6):\n",
    "    return expr.xreplace({n: round(n, num_digits) for n in expr.atoms(sp.Float)})"
   ]
  },
  {
   "cell_type": "markdown",
   "metadata": {},
   "source": [
    "# INFORMAÇÕES DO SISTEMA\n",
    "- Declarando a função de transferência e obtendo os parâmetros"
   ]
  },
  {
   "cell_type": "code",
   "execution_count": 47,
   "metadata": {},
   "outputs": [],
   "source": [
    "s  = ctl.TransferFunction.s"
   ]
  },
  {
   "cell_type": "code",
   "execution_count": 48,
   "metadata": {},
   "outputs": [
    {
     "data": {
      "text/latex": [
       "$$\\frac{0.003216 s^2 - 0.008281 s + 0.02067}{0.1556 s^2 - 0.7889 s + 1}$$"
      ],
      "text/plain": [
       "TransferFunction(array([ 0.0032165 , -0.00828145,  0.02067081]), array([ 0.15560577, -0.78893795,  1.        ]))"
      ]
     },
     "execution_count": 48,
     "metadata": {},
     "output_type": "execute_result"
    }
   ],
   "source": [
    "G  = 0.0206708134012297*(0.155605773*s**2 - 0.400634718*s + 1.0)/(0.15560577*s**2 - 0.78893795*s + 1.0)\n",
    "#G = 12/((s-10)*(s+5))\n",
    "#G = (s+20)/(s*(s+2)*(s+3))\n",
    "\n",
    "G"
   ]
  },
  {
   "cell_type": "code",
   "execution_count": 49,
   "metadata": {},
   "outputs": [
    {
     "data": {
      "text/plain": [
       "[<matplotlib.lines.Line2D at 0x7f61f5a2a410>]"
      ]
     },
     "execution_count": 49,
     "metadata": {},
     "output_type": "execute_result"
    },
    {
     "data": {
      "image/png": "[encoded data removed]",
      "text/plain": [
       "<Figure size 500x200 with 1 Axes>"
      ]
     },
     "metadata": {},
     "output_type": "display_data"
    }
   ],
   "source": [
    "time, response = ctl.step_response(G)\n",
    "plt.figure(figsize=(5, 2))\n",
    "plt.plot(time, response)"
   ]
  },
  {
   "cell_type": "markdown",
   "metadata": {},
   "source": [
    "- Encontrando as características da resposta transitória e permanente"
   ]
  },
  {
   "cell_type": "code",
   "execution_count": 50,
   "metadata": {},
   "outputs": [
    {
     "name": "stdout",
     "output_type": "stream",
     "text": [
      "overshoot:  0.0\n",
      "valor de pico:  140.71111244248542\n",
      "tempo de pico:  2.7252219003059777\n",
      "tempo de assentamento:  None\n",
      "valor final:  140.71111244248542\n",
      "erro:  139.71111244248542\n"
     ]
    }
   ],
   "source": [
    "def getOvershoot(time, response):\n",
    "    peak_value = np.max(response)\n",
    "    steady_state_value = response[-1]\n",
    "    overshoot = (peak_value - steady_state_value) / steady_state_value\n",
    "    return 'inf' if overshoot < 0 or overshoot > 999 else overshoot\n",
    "\n",
    "def getZeta(overshoot):\n",
    "    return -np.log(overshoot) / np.sqrt((np.pi**2 + np.log(overshoot)**2))\n",
    "\n",
    "def getPeakTime(time, response):\n",
    "    return time[response == max(response)][0] #time[np.argmax(response)]\n",
    "\n",
    "def getError(response, setpoint=1):\n",
    "    return abs(setpoint - abs(response[-1]))\n",
    "\n",
    "def getSettlingTime(time, response, tolerance=0.02):\n",
    "    steady_state_value = np.mean(response[-50:])\n",
    "    settling_time = None\n",
    "    \n",
    "    if abs(steady_state_value) < 1e-6:\n",
    "        lower_bound = -tolerance\n",
    "        upper_bound = tolerance\n",
    "    else:\n",
    "        upper_bound = steady_state_value * (1 + tolerance)\n",
    "        lower_bound = steady_state_value * (1 - tolerance)\n",
    "    \n",
    "    for i in range(len(time)):\n",
    "        if lower_bound <= response[i] <= upper_bound:\n",
    "            if settling_time is None:\n",
    "                settling_time = time[i]\n",
    "        else:\n",
    "            settling_time = None\n",
    "    \n",
    "    return settling_time\n",
    "\n",
    "def getAllInfo(time, response, show=True, setpoint=1):\n",
    "    info = {\n",
    "        'overshoot': getOvershoot(time, response),\n",
    "        'peakValue': max(response),\n",
    "        'peakTime': getPeakTime(time, response),\n",
    "        'settlingTime': getSettlingTime(time, response),\n",
    "        'finalValue': response[-1],\n",
    "        'error': getError(response, setpoint)\n",
    "    }\n",
    "\n",
    "    if not show:\n",
    "        return info\n",
    "\n",
    "    print('overshoot: ', info['overshoot'])\n",
    "    print('valor de pico: ', info['peakValue'])\n",
    "    print('tempo de pico: ', info['peakTime'])\n",
    "    print('tempo de assentamento: ', info['settlingTime'])\n",
    "    print('valor final: ', info['finalValue'])\n",
    "    print('erro: ', info['error'])\n",
    "\n",
    "\n",
    "getAllInfo(time, response, setpoint=1)"
   ]
  },
  {
   "cell_type": "markdown",
   "metadata": {},
   "source": [
    "- Encontrando os polos do sistema"
   ]
  },
  {
   "cell_type": "code",
   "execution_count": 51,
   "metadata": {},
   "outputs": [
    {
     "data": {
      "text/latex": [
       "$\\displaystyle \\left[\\begin{matrix}2.53535763972587\\\\2.53474965770918\\end{matrix}\\right]$"
      ],
      "text/plain": [
       "Matrix([\n",
       "[2.53535763972587],\n",
       "[2.53474965770918]])"
      ]
     },
     "metadata": {},
     "output_type": "display_data"
    },
    {
     "data": {
      "text/latex": [
       "$\\displaystyle \\left[\\begin{matrix}1.28733886370655 + 2.18386250381214 i\\\\1.28733886370655 - 2.18386250381214 i\\end{matrix}\\right]$"
      ],
      "text/plain": [
       "Matrix([\n",
       "[1.28733886370655 + 2.18386250381214*I],\n",
       "[1.28733886370655 - 2.18386250381214*I]])"
      ]
     },
     "metadata": {},
     "output_type": "display_data"
    }
   ],
   "source": [
    "polos = ctl.pole(G)\n",
    "zeros = ctl.zeros(G)\n",
    "\n",
    "display(sp.Matrix(polos))\n",
    "display(sp.Matrix(zeros))"
   ]
  },
  {
   "cell_type": "markdown",
   "metadata": {},
   "source": [
    "# REQUISITOS DO SISTEMA\n",
    "\n",
    "### REQUISITOS NO TEMPO\n",
    "- O primeiro parâmetero é que o erro seja nulo, ou seja $c(\\infty) = \\lim_{t \\to \\infty} c(t) = \\lim_{s \\to 0} s\\,C(s) = \\lim_{s \\to 0} s\\,G(s)R(s)= 0$\n",
    "\n",
    "- O segundo parâmetro se refere à resposta transitória do sistema, ou seja, queremos alguma informação da resposta transitória que nos dê $\\zeta$. Um bom parâmetro é o tempo de estabilização $T_s$, gostaria que $T_s$ fosse pequeno.\n",
    "\n",
    "$T_s = \\frac{4}{\\zeta\\omega_n}$\n"
   ]
  },
  {
   "cell_type": "code",
   "execution_count": 52,
   "metadata": {},
   "outputs": [],
   "source": [
    "Ts = 5.0\n",
    "UP = 0.5"
   ]
  },
  {
   "cell_type": "code",
   "execution_count": 53,
   "metadata": {},
   "outputs": [
    {
     "data": {
      "text/plain": [
       "0.2154537619662468"
      ]
     },
     "execution_count": 53,
     "metadata": {},
     "output_type": "execute_result"
    }
   ],
   "source": [
    "zeta = -np.log(UP)/np.sqrt(np.pi**2 + np.log(UP)**2)\n",
    "zeta"
   ]
  },
  {
   "cell_type": "code",
   "execution_count": 54,
   "metadata": {},
   "outputs": [
    {
     "data": {
      "text/plain": [
       "3.713093671232015"
      ]
     },
     "execution_count": 54,
     "metadata": {},
     "output_type": "execute_result"
    }
   ],
   "source": [
    "Wn = 4/(zeta*Ts)\n",
    "Wn"
   ]
  },
  {
   "cell_type": "markdown",
   "metadata": {},
   "source": [
    "### ROOT LOCUS\n",
    "Uma maneira de encontrar o polo desejado $s_D$ para o controlador é encontrando a interseção da linha vertical projetada por $\\zeta$ com o caminho percorrido pelo LGR. O root locus nos dá uma informação importante sobre como é possível controlar o sistema, mostrando o caminho pelo qual os polos e zeros podem percorrer para chegar em uma estabilidade, ou seja, no semiplano esquerdo"
   ]
  },
  {
   "cell_type": "code",
   "execution_count": 56,
   "metadata": {},
   "outputs": [
    {
     "data": {
      "image/png": "[encoded data removed]",
      "text/plain": [
       "<Figure size 640x480 with 1 Axes>"
      ]
     },
     "metadata": {},
     "output_type": "display_data"
    }
   ],
   "source": [
    "def zGrid(G, zeta):\n",
    "    ctl.root_locus(G)\n",
    "\n",
    "    angle  = np.arccos(zeta)\n",
    "    radius = np.linspace(0, 100, 400)\n",
    "\n",
    "    x = radius * np.cos(angle)\n",
    "    y = radius * np.sin(angle)\n",
    "    \n",
    "    plt.plot(-x, y, 'r--')\n",
    "    plt.plot(-x, -y, 'r--')\n",
    "\n",
    "    plt.title(f'Root Locus with zeta = {zeta} line')\n",
    "    plt.xlabel('Real')\n",
    "    plt.ylabel('Imaginary')\n",
    "    plt.show()\n",
    "\n",
    "C_aux = (s - 1.5)*(s - 1.5)/(s + 30)/(s + 30)\n",
    "zGrid(G*C_aux, zeta)\n",
    "#1/0"
   ]
  },
  {
   "cell_type": "code",
   "execution_count": 12,
   "metadata": {},
   "outputs": [
    {
     "name": "stdout",
     "output_type": "stream",
     "text": [
      "(0.00321649789783711*s**4 - 0.0179309391913436*s**3 + 0.05275227016486*s**2 - 0.0806456925738117*s + 0.0465093301527668)/(0.15560577*s**4 + 8.54740825*s**3 + 93.708916*s**2 - 650.044155*s + 900.0)\n"
     ]
    },
    {
     "data": {
      "text/latex": [
       "$$\\frac{0.003216 s^4 - 0.01793 s^3 + 0.05275 s^2 - 0.08065 s + 0.04651}{0.1556 s^4 + 8.547 s^3 + 93.71 s^2 - 650 s + 900}$$"
      ],
      "text/plain": [
       "TransferFunction(array([ 0.0032165 , -0.01793094,  0.05275227, -0.08064569,  0.04650933]), array([ 1.55605770e-01,  8.54740825e+00,  9.37089160e+01, -6.50044155e+02,\n",
       "        9.00000000e+02]))"
      ]
     },
     "metadata": {},
     "output_type": "display_data"
    }
   ],
   "source": [
    "print(sympyFunction(G * C_aux))\n",
    "display(G * C_aux)"
   ]
  },
  {
   "cell_type": "markdown",
   "metadata": {},
   "source": [
    "### POLO DESEJADO"
   ]
  },
  {
   "cell_type": "markdown",
   "metadata": {},
   "source": [
    "$s = -\\zeta\\omega_n \\pm \\omega_n\\sqrt{1-\\zeta²}j$"
   ]
  },
  {
   "cell_type": "code",
   "execution_count": 13,
   "metadata": {},
   "outputs": [
    {
     "data": {
      "text/latex": [
       "$\\displaystyle -0.8 + 3.62588811346175 i$"
      ],
      "text/plain": [
       "-0.8 + 3.62588811346175*I"
      ]
     },
     "execution_count": 13,
     "metadata": {},
     "output_type": "execute_result"
    }
   ],
   "source": [
    "s_desired = -zeta*Wn + Wn*np.sqrt(1-zeta**2)*sp.I\n",
    "#s_desired = -0.2103+0.28046*sp.I\n",
    "s_desired"
   ]
  },
  {
   "cell_type": "markdown",
   "metadata": {},
   "source": [
    "# TABELA DE ROUTH"
   ]
  },
  {
   "cell_type": "code",
   "execution_count": 14,
   "metadata": {},
   "outputs": [
    {
     "data": {
      "text/latex": [
       "$\\displaystyle \\frac{0.000501 K s^{8} + 0.024703 K s^{7} + 0.15636 K s^{6} - 3.332808 K s^{5} + 18.812034 K s^{4} - 57.588836 K s^{3} + 104.258643 K s^{2} - 102.814242 K s + 41.858397 K}{0.000501 K s^{8} + 0.024703 K s^{7} + 0.15636 K s^{6} - 3.332808 K s^{5} + 18.812034 K s^{4} - 57.588836 K s^{3} + 104.258643 K s^{2} - 102.814242 K s + 41.858397 K + 0.024213 s^{8} + 2.660052 s^{7} + 102.221484 s^{6} + 1399.635481 s^{5} - 2050.934223 s^{4} - 106444.531384 s^{3} + 591233.45225 s^{2} - 1170079.479 s + 810000.0}$"
      ],
      "text/plain": [
       "(0.000501*K*s**8 + 0.024703*K*s**7 + 0.15636*K*s**6 - 3.332808*K*s**5 + 18.812034*K*s**4 - 57.588836*K*s**3 + 104.258643*K*s**2 - 102.814242*K*s + 41.858397*K)/(0.000501*K*s**8 + 0.024703*K*s**7 + 0.15636*K*s**6 - 3.332808*K*s**5 + 18.812034*K*s**4 - 57.588836*K*s**3 + 104.258643*K*s**2 - 102.814242*K*s + 41.858397*K + 0.024213*s**8 + 2.660052*s**7 + 102.221484*s**6 + 1399.635481*s**5 - 2050.934223*s**4 - 106444.531384*s**3 + 591233.45225*s**2 - 1170079.479*s + 810000.0)"
      ]
     },
     "execution_count": 14,
     "metadata": {},
     "output_type": "execute_result"
    }
   ],
   "source": [
    "K, s = sp.symbols('K s')\n",
    "G_s  = K * sympyFunction(G * C_aux)\n",
    "\n",
    "T = sp.cancel(G_s/(1 + G_s))\n",
    "T = roundSympyFunction(T)\n",
    "T"
   ]
  },
  {
   "cell_type": "code",
   "execution_count": 14,
   "metadata": {},
   "outputs": [],
   "source": [
    "num, den = sp.fraction(T)\n",
    "\n",
    "routhTable = routh(sp.poly(den, s))\n",
    "routhTable = roundSympyFunction(routhTable)\n",
    "\n",
    "routhTable"
   ]
  },
  {
   "cell_type": "code",
   "execution_count": null,
   "metadata": {},
   "outputs": [
    {
     "data": {
      "text/latex": [
       "$\\displaystyle \\left[\\begin{matrix}0.000501 K + 0.024213\\\\0.003681 K + 0.723\\\\\\frac{- 0.000625 K^{2} - 0.047463 K + 2.088768}{0.003681 K + 0.723}\\\\\\frac{0.000318 K^{3} - 0.017474 K^{2} - 3.102119 K + 303.523722}{0.000625 K^{2} + 0.047463 K - 2.088768}\\\\\\frac{4.6 \\cdot 10^{-5} K^{5} - 0.001859 K^{4} - 0.809115 K^{3} + 32.404801 K^{2} + 4453.021195 K - 145485.113689}{- 1.0 \\cdot 10^{-5} K^{4} - 0.00219 K^{3} + 0.133888 K^{2} + 12.766675 K - 458.375235}\\\\\\frac{\\left(- 1.0 \\cdot 10^{-5} K^{4} - 0.00219 K^{3} + 0.133888 K^{2} + 12.766675 K - 458.375235\\right) \\left(1.4 \\cdot 10^{-5} K^{7} + 0.001767 K^{6} - 0.327459 K^{5} - 18.307225 K^{4} + 2964.093951 K^{3} + 56497.330196 K^{2} - 8794108.367795 K + 154410125.584489\\right)}{\\left(- 2.0 \\cdot 10^{-6} K^{5} + 0.018904 K^{3} + 0.039977 K^{2} - 48.422476 K + 957.439464\\right) \\left(- 4.6 \\cdot 10^{-5} K^{5} + 0.001859 K^{4} + 0.809115 K^{3} - 32.404801 K^{2} - 4453.021195 K + 145485.113689\\right)}\\\\\\frac{- 7.0 \\cdot 10^{-6} K^{16} + 2.0 \\cdot 10^{-5} K^{15} + 0.065533 K^{14} - 1.079381 K^{13} - 455.593824 K^{12} + 13839.200536 K^{11} + 2177489.282413 K^{10} - 100586573.156721 K^{9} - 6297900042.59553 K^{8} + 441999126914.496 K^{7} + 6533177897896.93 K^{6} - 1.0718153349574 \\cdot 10^{15} K^{5} + 1.62898858510759 \\cdot 10^{16} K^{4} + 9.31498134539426 \\cdot 10^{17} K^{3} - 4.24703048656324 \\cdot 10^{19} K^{2} + 6.7496022702725 \\cdot 10^{20} K - 3.94354494779661 \\cdot 10^{21}}{1.0 \\cdot 10^{-6} K^{15} + 0.000127 K^{14} - 0.007125 K^{13} - 0.856604 K^{12} + 54.643395 K^{11} + 3878.975953 K^{10} - 302793.601073 K^{9} - 9932299.328837 K^{8} + 1124764973.47365 K^{7} + 3825134311.72026 K^{6} - 2420381282883.79 K^{5} + 50149375657832.8 K^{4} + 1.82376230252565 \\cdot 10^{15} K^{3} - 9.77190604050064 \\cdot 10^{16} K^{2} + 1.63645289974616 \\cdot 10^{18} K - 9.85886236949152 \\cdot 10^{18}}\\end{matrix}\\right]$"
      ],
      "text/plain": [
       "Matrix([\n",
       "[                                                                                                                                                                                                                                                                                                                                                                                                                                                                                                                                                                                                                                                                                                                                   0.000501*K + 0.024213],\n",
       "[                                                                                                                                                                                                                                                                                                                                                                                                                                                                                                                                                                                                                                                                                                                                      0.003681*K + 0.723],\n",
       "[                                                                                                                                                                                                                                                                                                                                                                                                                                                                                                                                                                                                                                                                                           (-0.000625*K**2 - 0.047463*K + 2.088768)/(0.003681*K + 0.723)],\n",
       "[                                                                                                                                                                                                                                                                                                                                                                                                                                                                                                                                                                                                                                                       (0.000318*K**3 - 0.017474*K**2 - 3.102119*K + 303.523722)/(0.000625*K**2 + 0.047463*K - 2.088768)],\n",
       "[                                                                                                                                                                                                                                                                                                                                                                                                                                                                                                                                                                                 (4.6e-5*K**5 - 0.001859*K**4 - 0.809115*K**3 + 32.404801*K**2 + 4453.021195*K - 145485.113689)/(-1.0e-5*K**4 - 0.00219*K**3 + 0.133888*K**2 + 12.766675*K - 458.375235)],\n",
       "[                                                                                                                                                                                                                                                                                                                                                        (-1.0e-5*K**4 - 0.00219*K**3 + 0.133888*K**2 + 12.766675*K - 458.375235)*(1.4e-5*K**7 + 0.001767*K**6 - 0.327459*K**5 - 18.307225*K**4 + 2964.093951*K**3 + 56497.330196*K**2 - 8794108.367795*K + 154410125.584489)/((-2.0e-6*K**5 + 0.018904*K**3 + 0.039977*K**2 - 48.422476*K + 957.439464)*(-4.6e-5*K**5 + 0.001859*K**4 + 0.809115*K**3 - 32.404801*K**2 - 4453.021195*K + 145485.113689))],\n",
       "[(-7.0e-6*K**16 + 2.0e-5*K**15 + 0.065533*K**14 - 1.079381*K**13 - 455.593824*K**12 + 13839.200536*K**11 + 2177489.282413*K**10 - 100586573.156721*K**9 - 6297900042.59553*K**8 + 441999126914.496*K**7 + 6533177897896.93*K**6 - 1.0718153349574e+15*K**5 + 1.62898858510759e+16*K**4 + 9.31498134539426e+17*K**3 - 4.24703048656324e+19*K**2 + 6.7496022702725e+20*K - 3.94354494779661e+21)/(1.0e-6*K**15 + 0.000127*K**14 - 0.007125*K**13 - 0.856604*K**12 + 54.643395*K**11 + 3878.975953*K**10 - 302793.601073*K**9 - 9932299.328837*K**8 + 1124764973.47365*K**7 + 3825134311.72026*K**6 - 2420381282883.79*K**5 + 50149375657832.8*K**4 + 1.82376230252565e+15*K**3 - 9.77190604050064e+16*K**2 + 1.63645289974616e+18*K - 9.85886236949152e+18)]])"
      ]
     },
     "execution_count": 16,
     "metadata": {},
     "output_type": "execute_result"
    }
   ],
   "source": [
    "firstRow = routhTable[:, 0]\n",
    "firstRow"
   ]
  },
  {
   "cell_type": "code",
   "execution_count": null,
   "metadata": {},
   "outputs": [
    {
     "data": {
      "text/plain": [
       "[0.000501*K + 0.024213 > 0,\n",
       " 0.003681*K + 0.723 > 0,\n",
       " (-0.000625*K**2 - 0.047463*K + 2.088768)/(0.003681*K + 0.723) > 0,\n",
       " (0.000318*K**3 - 0.017474*K**2 - 3.102119*K + 303.523722)/(0.000625*K**2 + 0.047463*K - 2.088768) > 0,\n",
       " (4.6e-5*K**5 - 0.001859*K**4 - 0.809115*K**3 + 32.404801*K**2 + 4453.021195*K - 145485.113689)/(-1.0e-5*K**4 - 0.00219*K**3 + 0.133888*K**2 + 12.766675*K - 458.375235) > 0,\n",
       " (-1.0e-5*K**4 - 0.00219*K**3 + 0.133888*K**2 + 12.766675*K - 458.375235)*(1.4e-5*K**7 + 0.001767*K**6 - 0.327459*K**5 - 18.307225*K**4 + 2964.093951*K**3 + 56497.330196*K**2 - 8794108.367795*K + 154410125.584489)/((-2.0e-6*K**5 + 0.018904*K**3 + 0.039977*K**2 - 48.422476*K + 957.439464)*(-4.6e-5*K**5 + 0.001859*K**4 + 0.809115*K**3 - 32.404801*K**2 - 4453.021195*K + 145485.113689)) > 0,\n",
       " (-7.0e-6*K**16 + 2.0e-5*K**15 + 0.065533*K**14 - 1.079381*K**13 - 455.593824*K**12 + 13839.200536*K**11 + 2177489.282413*K**10 - 100586573.156721*K**9 - 6297900042.59553*K**8 + 441999126914.496*K**7 + 6533177897896.93*K**6 - 1.0718153349574e+15*K**5 + 1.62898858510759e+16*K**4 + 9.31498134539426e+17*K**3 - 4.24703048656324e+19*K**2 + 6.7496022702725e+20*K - 3.94354494779661e+21)/(1.0e-6*K**15 + 0.000127*K**14 - 0.007125*K**13 - 0.856604*K**12 + 54.643395*K**11 + 3878.975953*K**10 - 302793.601073*K**9 - 9932299.328837*K**8 + 1124764973.47365*K**7 + 3825134311.72026*K**6 - 2420381282883.79*K**5 + 50149375657832.8*K**4 + 1.82376230252565e+15*K**3 - 9.77190604050064e+16*K**2 + 1.63645289974616e+18*K - 9.85886236949152e+18) > 0]"
      ]
     },
     "execution_count": 17,
     "metadata": {},
     "output_type": "execute_result"
    }
   ],
   "source": [
    "equations = [value > 0 for value in firstRow]\n",
    "equations"
   ]
  },
  {
   "cell_type": "code",
   "execution_count": null,
   "metadata": {},
   "outputs": [
    {
     "name": "stdout",
     "output_type": "stream",
     "text": [
      "(-48.329 < K) & (K < oo) & (((-110.814 < K) & (K < -107.133)) | ((31.194 < K) & (K < oo))) & (((-107.133 < K) & (K < 31.194)) | ((-oo < K) & (K < -196.414))) & (((-57.623 < K) & (K < 25.124)) | ((-oo < K) & (K < -120.851))) & (((-76.993 < K) & (K < 31.196)) | ((31.626 < K) & (K < 75.538)) | ((-oo < K) & (K < -248.873))) & (((-187.936 < K) & (K < -76.99)) | ((31.189 < K) & (K < 31.626)) | ((75.535 < K) & (K < 84.22)) | ((-oo < K) & (K < -248.681)))\n"
     ]
    }
   ],
   "source": [
    "solutions  = sp.solve(equations, K)\n",
    "solutions = roundSympyFunction(solutions, 3)\n",
    "print(solutions)"
   ]
  },
  {
   "cell_type": "markdown",
   "metadata": {},
   "source": [
    "# CONTROLADOR\n",
    "- Encontrando as constantes do controlador: $C(s) = K\\frac{(s-a)(s-b)}{s(s+p)}$\n",
    "\n",
    "- $p$ é um polo colocado arbitrariamente pois o número de polos tem que ser maior ou igual o número de zeros, para que seja possível implementá-lo digitalmente, com uma função de transferência própria. Esse polo $p$ precisa estar longe do eixo imaginário para que tenha pouca influência no sistema"
   ]
  },
  {
   "cell_type": "code",
   "execution_count": 15,
   "metadata": {},
   "outputs": [],
   "source": [
    "s = sp.symbols('s')\n",
    "K, a, b = sp.symbols('K a b', real=True)"
   ]
  },
  {
   "cell_type": "markdown",
   "metadata": {},
   "source": [
    "### MALHA ABERTA\n",
    "- A função de transferência final em malha aberta será $G(s)C(s)$"
   ]
  },
  {
   "cell_type": "code",
   "execution_count": 16,
   "metadata": {},
   "outputs": [
    {
     "data": {
      "text/latex": [
       "$\\displaystyle \\frac{K \\left(a + s\\right) \\left(b + s\\right)}{s \\left(s + 20\\right)}$"
      ],
      "text/plain": [
       "K*(a + s)*(b + s)/(s*(s + 20))"
      ]
     },
     "execution_count": 16,
     "metadata": {},
     "output_type": "execute_result"
    }
   ],
   "source": [
    "C     = K * ((s + a) * (s + b)) / (s * (s + 20))\n",
    "C_bkp = str(C)\n",
    "\n",
    "C"
   ]
  },
  {
   "cell_type": "code",
   "execution_count": 17,
   "metadata": {},
   "outputs": [
    {
     "data": {
      "text/latex": [
       "$\\displaystyle \\frac{K \\left(a + s\\right) \\left(b + s\\right) \\left(0.00321649789783711 s^{4} - 0.0179309391913436 s^{3} + 0.05275227016486 s^{2} - 0.0806456925738117 s + 0.0465093301527668\\right)}{s \\left(s + 20\\right) \\left(0.15560577 s^{4} + 8.54740825 s^{3} + 93.708916 s^{2} - 650.044155 s + 900.0\\right)}$"
      ],
      "text/plain": [
       "K*(a + s)*(b + s)*(0.00321649789783711*s**4 - 0.0179309391913436*s**3 + 0.05275227016486*s**2 - 0.0806456925738117*s + 0.0465093301527668)/(s*(s + 20)*(0.15560577*s**4 + 8.54740825*s**3 + 93.708916*s**2 - 650.044155*s + 900.0))"
      ]
     },
     "execution_count": 17,
     "metadata": {},
     "output_type": "execute_result"
    }
   ],
   "source": [
    "GC = sympyFunction(G * C_aux) * C\n",
    "GC"
   ]
  },
  {
   "cell_type": "code",
   "execution_count": 18,
   "metadata": {},
   "outputs": [],
   "source": [
    "ZERO = 1e-10"
   ]
  },
  {
   "cell_type": "markdown",
   "metadata": {},
   "source": [
    "### EQUAÇÃO 1 - ERRO EM REGIME PERMANENTE\n",
    "- Erro em regime permanente para entrada em degrau é igual a zero (malha fechada)\n",
    "\n",
    "- $erro = \\frac{1}{1+K_p}$ onde $K_p = \\lim_{s\\to 0} G(s)$"
   ]
  },
  {
   "cell_type": "code",
   "execution_count": 19,
   "metadata": {},
   "outputs": [
    {
     "data": {
      "text/latex": [
       "$\\displaystyle \\frac{1}{K \\left(25838.516749 a b + 3.0 \\cdot 10^{-6} a + 3.0 \\cdot 10^{-6} b\\right) + 1} = 1.0 \\cdot 10^{-10}$"
      ],
      "text/plain": [
       "Eq(1/(K*(25838.516749*a*b + 3.0e-6*a + 3.0e-6*b) + 1), 1.0e-10)"
      ]
     },
     "execution_count": 19,
     "metadata": {},
     "output_type": "execute_result"
    }
   ],
   "source": [
    "Kp  = GC.subs(s, ZERO).expand().simplify()\n",
    "eq1 = 1/(1 + Kp)\n",
    "eq1 = roundSympyFunction(eq1)\n",
    "\n",
    "eq1 = sp.Eq(eq1, ZERO)\n",
    "eq1"
   ]
  },
  {
   "cell_type": "markdown",
   "metadata": {},
   "source": [
    "### EQUAÇÃO 2 - SOMA DOS ÂNGULOS\n",
    "- A soma dos angulos da função de transferência em malha aberta + 180º é igual a zero para o $s$ desejado"
   ]
  },
  {
   "cell_type": "code",
   "execution_count": 20,
   "metadata": {},
   "outputs": [
    {
     "data": {
      "text/latex": [
       "$\\displaystyle \\arg{\\left(- \\frac{K \\left(0.8 + 3.625888 i\\right) \\left(19.2 - 3.625888 i\\right) \\left(a - 0.8 + 3.625888 i\\right) \\left(b - 0.8 + 3.625888 i\\right) \\left(0.111026 + 0.052752 \\left(-0.8 + 3.625888 i\\right)^{2} - 0.292412 i + 0.003216 \\left(-0.8 + 3.625888 i\\right)^{4} - 0.017931 \\left(-0.8 + 3.625888 i\\right)^{3}\\right)}{1420.035324 - 2356.987375 i + 93.708916 \\left(-0.8 + 3.625888 i\\right)^{2} + 8.547408 \\left(-0.8 + 3.625888 i\\right)^{3} + 0.155606 \\left(-0.8 + 3.625888 i\\right)^{4}} \\right)} + \\pi = 1.0 \\cdot 10^{-10}$"
      ],
      "text/plain": [
       "Eq(arg(-K*(0.8 + 3.625888*I)*(19.2 - 3.625888*I)*(a - 0.8 + 3.625888*I)*(b - 0.8 + 3.625888*I)*(0.111026 + 0.052752*(-0.8 + 3.625888*I)**2 - 0.292412*I + 0.003216*(-0.8 + 3.625888*I)**4 - 0.017931*(-0.8 + 3.625888*I)**3)/(1420.035324 - 2356.987375*I + 93.708916*(-0.8 + 3.625888*I)**2 + 8.547408*(-0.8 + 3.625888*I)**3 + 0.155606*(-0.8 + 3.625888*I)**4)) + pi, 1.0e-10)"
      ]
     },
     "execution_count": 20,
     "metadata": {},
     "output_type": "execute_result"
    }
   ],
   "source": [
    "G_aux = GC.subs(s, s_desired)\n",
    "angle = sp.arg(G_aux)\n",
    "angle = roundSympyFunction(angle)\n",
    "\n",
    "eq2 = sp.Eq(angle + sp.pi, ZERO)\n",
    "eq2"
   ]
  },
  {
   "cell_type": "markdown",
   "metadata": {},
   "source": [
    "### EQUAÇÃO 3 - MÓDULO\n",
    "- O módulo da função de transferência em malha aberta é igual a 1 para o $s$ desejado"
   ]
  },
  {
   "cell_type": "code",
   "execution_count": 21,
   "metadata": {},
   "outputs": [
    {
     "data": {
      "text/latex": [
       "$\\displaystyle 5.3981130420061 \\cdot 10^{-5} \\sqrt{0.072532 a^{2} - 0.116051 a + 1} \\sqrt{0.072532 b^{2} - 0.116051 b + 1} \\left|{K}\\right| - 1 = 1.0 \\cdot 10^{-10}$"
      ],
      "text/plain": [
       "Eq(5.3981130420061e-5*sqrt(0.072532*a**2 - 0.116051*a + 1)*sqrt(0.072532*b**2 - 0.116051*b + 1)*Abs(K) - 1, 1.0e-10)"
      ]
     },
     "execution_count": 21,
     "metadata": {},
     "output_type": "execute_result"
    }
   ],
   "source": [
    "G_aux  = GC.subs(s, s_desired)\n",
    "modulo = sp.Abs(G_aux).expand().simplify()\n",
    "modulo = roundSympyFunction(modulo)\n",
    "\n",
    "eq3 = sp.Eq(modulo - 1, ZERO)\n",
    "eq3"
   ]
  },
  {
   "cell_type": "markdown",
   "metadata": {},
   "source": [
    "### RESOLUÇÃO DO SISTEMA"
   ]
  },
  {
   "cell_type": "code",
   "execution_count": 22,
   "metadata": {},
   "outputs": [
    {
     "name": "stdout",
     "output_type": "stream",
     "text": [
      "1/(K*(25838.516749*a*b + 3.0e-6*a + 3.0e-6*b) + 1)\n",
      "np.angle(-K*(0.8 + 3.625888j)*(19.2 - 3.625888j)*(a - 0.8 + 3.625888j)*(b - 0.8 + 3.625888j)*(0.111026 + 0.052752*(-0.8 + 3.625888j)**2 - 0.292412j + 0.003216*(-0.8 + 3.625888j)**4 - 0.017931*(-0.8 + 3.625888j)**3)/(1420.035324 - 2356.987375j + 93.708916*(-0.8 + 3.625888j)**2 + 8.547408*(-0.8 + 3.625888j)**3 + 0.155606*(-0.8 + 3.625888j)**4)) + np.pi\n",
      "5.3981130420061e-5*np.sqrt(0.072532*a**2 - 0.116051*a + 1)*np.sqrt(0.072532*b**2 - 0.116051*b + 1)*np.abs(K) - 1\n"
     ]
    }
   ],
   "source": [
    "def convertString(eq):\n",
    "    substitutions = {\n",
    "        'sqrt': 'np.sqrt',\n",
    "        'Abs' : 'np.abs',\n",
    "        'pi'  : 'np.pi',\n",
    "        'arg' : 'np.angle',\n",
    "        '*I'  : 'j',\n",
    "        'I)'  : '1j)'\n",
    "    }\n",
    "\n",
    "    result = str(eq.lhs)\n",
    "    for key, value in substitutions.items():\n",
    "        result = result.replace(key, value)\n",
    "\n",
    "    return result\n",
    "\n",
    "\n",
    "str_eq1 = convertString(eq1)\n",
    "str_eq2 = convertString(eq2)\n",
    "str_eq3 = convertString(eq3)\n",
    "\n",
    "print(str_eq1)\n",
    "print(str_eq2)\n",
    "print(str_eq3)"
   ]
  },
  {
   "cell_type": "code",
   "execution_count": 23,
   "metadata": {},
   "outputs": [
    {
     "name": "stdout",
     "output_type": "stream",
     "text": [
      "Solucoes: [6.80909201e+03 5.73605668e+00 5.73557626e+00] \n",
      "\n"
     ]
    }
   ],
   "source": [
    "def sistema(variaveis):\n",
    "    (K, a, b) = variaveis\n",
    "    return [\n",
    "        eval(str_eq1), \n",
    "        eval(str_eq2),\n",
    "        eval(str_eq3)\n",
    "    ]\n",
    "\n",
    "guess     = [1, 1, 1]\n",
    "solutions = fsolve(sistema, guess, maxfev=10000000, xtol=ZERO)\n",
    "print('Solucoes:', solutions, '\\n')"
   ]
  },
  {
   "cell_type": "code",
   "execution_count": 24,
   "metadata": {},
   "outputs": [
    {
     "name": "stdout",
     "output_type": "stream",
     "text": [
      "1.72763790887408e-10\n",
      "3.15557935871520e-7\n",
      "6.92157989368170e-7\n"
     ]
    }
   ],
   "source": [
    "for eq in [eq1, eq2, eq3]:\n",
    "    sol = eq.lhs.subs({\n",
    "        K: solutions[0],\n",
    "        a: solutions[1],\n",
    "        b: solutions[2]\n",
    "    })\n",
    "    print(sp.N(sol))"
   ]
  },
  {
   "cell_type": "code",
   "execution_count": 25,
   "metadata": {},
   "outputs": [],
   "source": [
    "K = solutions[0]\n",
    "a = solutions[1]\n",
    "b = solutions[2]"
   ]
  },
  {
   "cell_type": "markdown",
   "metadata": {},
   "source": [
    "### CONTROLADOR\n",
    "- Função de transferência do controlador $C(s)$"
   ]
  },
  {
   "cell_type": "code",
   "execution_count": 26,
   "metadata": {},
   "outputs": [
    {
     "name": "stdout",
     "output_type": "stream",
     "text": [
      "(6809.09201100924*s**4 + 57684.1281664344*s**3 + 5002.58336870349*s**2 - 496298.357378168*s + 504036.762620218)/(s**4 + 80*s**3 + 2100*s**2 + 18000*s)\n"
     ]
    },
    {
     "data": {
      "text/latex": [
       "$$\\frac{6809 s^4 + 5.768 \\times 10^{4} s^3 + 5003 s^2 - 4.963 \\times 10^{5} s + 5.04 \\times 10^{5}}{s^4 + 80 s^3 + 2100 s^2 + 1.8 \\times 10^{4} s}$$"
      ],
      "text/plain": [
       "TransferFunction(array([   6809.09201101,   57684.12816643,    5002.5833687 ,\n",
       "       -496298.35737817,  504036.76262022]), array([    1,    80,  2100, 18000,     0]))"
      ]
     },
     "execution_count": 26,
     "metadata": {},
     "output_type": "execute_result"
    }
   ],
   "source": [
    "s = ctl.TransferFunction.s\n",
    "C = C_aux * eval(C_bkp)\n",
    "\n",
    "print(sympyFunction(C))\n",
    "C"
   ]
  },
  {
   "cell_type": "markdown",
   "metadata": {},
   "source": [
    "- Função de transferência do sistema em malha aberta $C(s)G(s)$"
   ]
  },
  {
   "cell_type": "code",
   "execution_count": 27,
   "metadata": {},
   "outputs": [
    {
     "data": {
      "text/latex": [
       "$$\\frac{21.9 s^6 + 129.2 s^5 - 320.9 s^4 - 445.4 s^3 + 5835 s^2 - 1.443 \\times 10^{4} s + 1.042 \\times 10^{4}}{0.1556 s^6 + 11.66 s^5 + 264.7 s^4 + 1224 s^3 - 1.21 \\times 10^{4} s^2 + 1.8 \\times 10^{4} s}$$"
      ],
      "text/plain": [
       "TransferFunction(array([    21.90143014,    129.15175261,   -320.86769422,   -445.39339518,\n",
       "         5834.70845203, -14433.04371524,  10418.84986748]), array([ 1.55605770e-01,  1.16595237e+01,  2.64657081e+02,  1.22413416e+03,\n",
       "       -1.21008831e+04,  1.80000000e+04,  0.00000000e+00]))"
      ]
     },
     "execution_count": 27,
     "metadata": {},
     "output_type": "execute_result"
    }
   ],
   "source": [
    "GC = G*C\n",
    "GC"
   ]
  },
  {
   "cell_type": "markdown",
   "metadata": {},
   "source": [
    "- Função de transferência em malha fechada com realimentação unitária $G_{feedback}(s) = \\frac{G(s)C(s)}{1+G(s)C(s)}$"
   ]
  },
  {
   "cell_type": "code",
   "execution_count": 28,
   "metadata": {},
   "outputs": [
    {
     "data": {
      "text/latex": [
       "$$\\frac{21.9 s^6 + 129.2 s^5 - 320.9 s^4 - 445.4 s^3 + 5835 s^2 - 1.443 \\times 10^{4} s + 1.042 \\times 10^{4}}{22.06 s^6 + 140.8 s^5 - 56.21 s^4 + 778.7 s^3 - 6266 s^2 + 3567 s + 1.042 \\times 10^{4}}$$"
      ],
      "text/plain": [
       "TransferFunction(array([    21.90143014,    129.15175261,   -320.86769422,   -445.39339518,\n",
       "         5834.70845203, -14433.04371524,  10418.84986748]), array([   22.05703591,   140.81127626,   -56.21061322,   778.74076982,\n",
       "       -6266.17464797,  3566.95628476, 10418.84986748]))"
      ]
     },
     "execution_count": 28,
     "metadata": {},
     "output_type": "execute_result"
    }
   ],
   "source": [
    "G_feedback = ctl.feedback(GC, 1)\n",
    "G_feedback"
   ]
  },
  {
   "cell_type": "code",
   "execution_count": 29,
   "metadata": {},
   "outputs": [
    {
     "data": {
      "text/plain": [
       "array([-7.88207547+0.j        , -0.80022032+3.62580312j,\n",
       "       -0.80022032-3.62580312j,  2.03961321+0.52195459j,\n",
       "        2.03961321-0.52195459j, -0.98067217+0.j        ])"
      ]
     },
     "execution_count": 29,
     "metadata": {},
     "output_type": "execute_result"
    }
   ],
   "source": [
    "ctl.poles(G_feedback)"
   ]
  },
  {
   "cell_type": "markdown",
   "metadata": {},
   "source": [
    "# APLICANDO UM STEP"
   ]
  },
  {
   "cell_type": "code",
   "execution_count": 30,
   "metadata": {},
   "outputs": [
    {
     "data": {
      "image/png": "[encoded data removed]",
      "text/plain": [
       "<Figure size 640x480 with 1 Axes>"
      ]
     },
     "metadata": {},
     "output_type": "display_data"
    }
   ],
   "source": [
    "    time, response = ctl.step_response(G_feedback)\n",
    "    plt.plot(time, response, label='response')\n",
    "    plt.plot(time, [1 for i in time], '--', label='setpoint')\n",
    "    plt.legend()\n",
    "    plt.grid()"
   ]
  },
  {
   "cell_type": "code",
   "execution_count": 31,
   "metadata": {},
   "outputs": [
    {
     "name": "stdout",
     "output_type": "stream",
     "text": [
      "overshoot:  inf\n",
      "valor de pico:  44.34602020681965\n",
      "tempo de pico:  3.2371187701692055\n",
      "tempo de assentamento:  None\n",
      "valor final:  -5854016.516634451\n",
      "erro:  5854015.516634451\n"
     ]
    }
   ],
   "source": [
    "getAllInfo(time, response, setpoint=1)"
   ]
  },
  {
   "cell_type": "markdown",
   "metadata": {},
   "source": [
    "# APLICANDO VÁRIOS STEPS"
   ]
  },
  {
   "cell_type": "code",
   "execution_count": 32,
   "metadata": {},
   "outputs": [
    {
     "data": {
      "image/png": "[encoded data removed]",
      "text/plain": [
       "<Figure size 1800x800 with 1 Axes>"
      ]
     },
     "metadata": {},
     "output_type": "display_data"
    }
   ],
   "source": [
    "uData = [100 for i in range(1000)] + [0 for i in range(1000)] + [-100 for i in range(1000)] + [50 for i in range(1000)]\n",
    "tData = np.linspace(0, 40, len(uData))\n",
    "\n",
    "plt.figure(figsize=(18, 8))\n",
    "time, response = ctl.forced_response(G_feedback, T=tData, U=uData)\n",
    "plt.plot(time, response, label='response')\n",
    "plt.legend()\n",
    "plt.grid()"
   ]
  }
 ],
 "metadata": {
  "kernelspec": {
   "display_name": "Python 3",
   "language": "python",
   "name": "python3"
  },
  "language_info": {
   "codemirror_mode": {
    "name": "ipython",
    "version": 3
   },
   "file_extension": ".py",
   "mimetype": "text/x-python",
   "name": "python",
   "nbconvert_exporter": "python",
   "pygments_lexer": "ipython3",
   "version": "3.10.12"
  }
 },
 "nbformat": 4,
 "nbformat_minor": 2
}
