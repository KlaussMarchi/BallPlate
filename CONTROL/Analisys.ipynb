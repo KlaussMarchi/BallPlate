{
 "cells": [
  {
   "cell_type": "code",
   "execution_count": 32,
   "metadata": {},
   "outputs": [],
   "source": [
    "import control as ctl\n",
    "import matplotlib.pyplot as plt\n",
    "import numpy as np\n",
    "import sympy as sp"
   ]
  },
  {
   "cell_type": "markdown",
   "metadata": {},
   "source": [
    "# INFORMAÇÕES DO SISTEMA\n",
    "- Declarando a função de transferência e obtendo os parâmetros"
   ]
  },
  {
   "cell_type": "code",
   "execution_count": 33,
   "metadata": {},
   "outputs": [
    {
     "data": {
      "text/latex": [
       "$$\\frac{0.006424 s + 0.1975}{s - 0.494}$$"
      ],
      "text/plain": [
       "TransferFunction(array([0.00642418, 0.19752364]), array([ 1.        , -0.49401493]))"
      ]
     },
     "execution_count": 33,
     "metadata": {},
     "output_type": "execute_result"
    }
   ],
   "source": [
    "s = ctl.TransferFunction.s\n",
    "G = 0.1975236421*(0.03252359073*s + 1.0)/(1.0*s - 0.49401493)\n",
    "\n",
    "G_bpk = G\n",
    "G"
   ]
  },
  {
   "cell_type": "code",
   "execution_count": 34,
   "metadata": {},
   "outputs": [
    {
     "data": {
      "text/plain": [
       "[<matplotlib.lines.Line2D at 0x16acc6f6ad0>]"
      ]
     },
     "execution_count": 34,
     "metadata": {},
     "output_type": "execute_result"
    },
    {
     "data": {
      "image/png": "[encoded data removed]",
      "text/plain": [
       "<Figure size 500x200 with 1 Axes>"
      ]
     },
     "metadata": {},
     "output_type": "display_data"
    }
   ],
   "source": [
    "time, response = ctl.step_response(G)\n",
    "plt.figure(figsize=(5, 2))\n",
    "plt.plot(time, response)"
   ]
  },
  {
   "cell_type": "markdown",
   "metadata": {},
   "source": [
    "- Encontrando as características da resposta transitória e permanente"
   ]
  },
  {
   "cell_type": "code",
   "execution_count": 35,
   "metadata": {},
   "outputs": [
    {
     "name": "stdout",
     "output_type": "stream",
     "text": [
      "overshoot:  0.0\n",
      "valor de pico:  405.8576900699929\n",
      "tempo de pico:  13.982887681111453\n",
      "tempo de assentamento:  None\n",
      "valor final:  405.8576900699929\n",
      "erro:  404.8576900699929\n"
     ]
    }
   ],
   "source": [
    "def getOvershoot(time, response):\n",
    "    peak_value = np.max(response)\n",
    "    steady_state_value = response[-1]\n",
    "    overshoot = (peak_value - steady_state_value) / steady_state_value\n",
    "    return 'inf' if overshoot < 0 or overshoot > 999 else overshoot\n",
    "\n",
    "def getZeta(overshoot):\n",
    "    return -np.log(overshoot) / np.sqrt((np.pi**2 + np.log(overshoot)**2))\n",
    "\n",
    "def getPeakTime(time, response):\n",
    "    return time[response == max(response)][0] #time[np.argmax(response)]\n",
    "\n",
    "def getError(response, setpoint=1):\n",
    "    return abs(setpoint - abs(response[-1]))\n",
    "\n",
    "def getSettlingTime(time, response, tolerance=0.02):\n",
    "    steady_state_value = np.mean(response[-50:])\n",
    "    settling_time = None\n",
    "    \n",
    "    if abs(steady_state_value) < 1e-6:\n",
    "        lower_bound = -tolerance\n",
    "        upper_bound = tolerance\n",
    "    else:\n",
    "        upper_bound = steady_state_value * (1 + tolerance)\n",
    "        lower_bound = steady_state_value * (1 - tolerance)\n",
    "    \n",
    "    for i in range(len(time)):\n",
    "        if lower_bound <= response[i] <= upper_bound:\n",
    "            if settling_time is None:\n",
    "                settling_time = time[i]\n",
    "        else:\n",
    "            settling_time = None\n",
    "    \n",
    "    return settling_time\n",
    "\n",
    "def getAllInfo(time, response, show=True, setpoint=1):\n",
    "    info = {\n",
    "        'overshoot': getOvershoot(time, response),\n",
    "        'peakValue': max(response),\n",
    "        'peakTime': getPeakTime(time, response),\n",
    "        'settlingTime': getSettlingTime(time, response),\n",
    "        'finalValue': response[-1],\n",
    "        'error': getError(response, setpoint)\n",
    "    }\n",
    "\n",
    "    if not show:\n",
    "        return info\n",
    "\n",
    "    print('overshoot: ', info['overshoot'])\n",
    "    print('valor de pico: ', info['peakValue'])\n",
    "    print('tempo de pico: ', info['peakTime'])\n",
    "    print('tempo de assentamento: ', info['settlingTime'])\n",
    "    print('valor final: ', info['finalValue'])\n",
    "    print('erro: ', info['error'])\n",
    "\n",
    "\n",
    "getAllInfo(time, response, setpoint=1)"
   ]
  },
  {
   "cell_type": "markdown",
   "metadata": {},
   "source": [
    "- Encontrando os polos do sistema"
   ]
  },
  {
   "cell_type": "code",
   "execution_count": 36,
   "metadata": {},
   "outputs": [
    {
     "data": {
      "text/plain": [
       "array([0.49401493+0.j])"
      ]
     },
     "execution_count": 36,
     "metadata": {},
     "output_type": "execute_result"
    }
   ],
   "source": [
    "polos = ctl.pole(G)\n",
    "polos"
   ]
  },
  {
   "cell_type": "code",
   "execution_count": 37,
   "metadata": {},
   "outputs": [
    {
     "data": {
      "image/png": "[encoded data removed]",
      "text/plain": [
       "<Figure size 600x300 with 1 Axes>"
      ]
     },
     "metadata": {},
     "output_type": "display_data"
    }
   ],
   "source": [
    "plt.figure(figsize=(6, 3))\n",
    "plt.scatter(np.real(polos), np.imag(polos), color='blue') \n",
    "plt.grid()\n",
    "plt.show()"
   ]
  },
  {
   "cell_type": "markdown",
   "metadata": {},
   "source": [
    "# ENCONTRANDO OS PARÂMETROS DESEJADOS\n",
    "- O primeiro parâmetero é que o erro seja nulo, ou seja $c(\\infty) = \\lim_{t \\to \\infty} c(t) = \\lim_{s \\to 0} s\\,C(s) = \\lim_{s \\to 0} s\\,G(s)R(s)= 0$\n",
    "\n",
    "- O segundo parâmetro se refere à resposta transitória do sistema, ou seja, queremos alguma informação da resposta transitória que nos dê $\\zeta$. Um bom parâmetro é o tempo de estabilização $T_s$, gostaria que $T_s$ fosse pequeno.\n",
    "\n",
    "$\\omega_n = \\frac{2\\pi}{T_s}$\n"
   ]
  },
  {
   "cell_type": "code",
   "execution_count": 38,
   "metadata": {},
   "outputs": [],
   "source": [
    "Ts = 20\n",
    "UP = 0.05"
   ]
  },
  {
   "cell_type": "code",
   "execution_count": 39,
   "metadata": {},
   "outputs": [
    {
     "data": {
      "text/plain": [
       "0.6901067305598217"
      ]
     },
     "execution_count": 39,
     "metadata": {},
     "output_type": "execute_result"
    }
   ],
   "source": [
    "zeta = -np.log(UP)/np.sqrt(np.pi**2 + np.log(UP)**2)\n",
    "zeta"
   ]
  },
  {
   "cell_type": "code",
   "execution_count": 40,
   "metadata": {},
   "outputs": [
    {
     "data": {
      "text/plain": [
       "0.3141592653589793"
      ]
     },
     "execution_count": 40,
     "metadata": {},
     "output_type": "execute_result"
    }
   ],
   "source": [
    "Wn = 2*np.pi/Ts\n",
    "Wn"
   ]
  },
  {
   "cell_type": "code",
   "execution_count": 41,
   "metadata": {},
   "outputs": [
    {
     "data": {
      "image/png": "[encoded data removed]",
      "text/plain": [
       "<Figure size 640x480 with 1 Axes>"
      ]
     },
     "metadata": {},
     "output_type": "display_data"
    }
   ],
   "source": [
    "def zGrid(G, zeta):\n",
    "    ctl.root_locus(G)\n",
    "\n",
    "    angle  = np.arccos(zeta)\n",
    "    radius = np.linspace(0, 100, 400)\n",
    "\n",
    "    x = radius * np.cos(angle)\n",
    "    y = radius * np.sin(angle)\n",
    "    \n",
    "    plt.plot(-x, y, 'r--')\n",
    "    plt.plot(-x, -y, 'r--')\n",
    "\n",
    "    plt.title(f'Root Locus with zeta = {zeta} line')\n",
    "    plt.xlabel('Real')\n",
    "    plt.ylabel('Imaginary')\n",
    "    plt.show()\n",
    "\n",
    "zGrid(G, zeta)"
   ]
  },
  {
   "cell_type": "markdown",
   "metadata": {},
   "source": [
    "- Como não há interseção de $\\zeta$ com o lugar geométrico, devemos encontrar o zeta de outra forma\n",
    "\n",
    "$s = -\\zeta\\omega_n \\pm \\omega_n\\sqrt{1-\\zeta^2}j$"
   ]
  },
  {
   "cell_type": "code",
   "execution_count": 42,
   "metadata": {},
   "outputs": [
    {
     "data": {
      "text/latex": [
       "$\\displaystyle -0.216803423491961 + 0.227359450151207 i$"
      ],
      "text/plain": [
       "-0.216803423491961 + 0.227359450151207*I"
      ]
     },
     "execution_count": 42,
     "metadata": {},
     "output_type": "execute_result"
    }
   ],
   "source": [
    "s1 = -zeta*Wn + Wn*np.sqrt(1-zeta**2)*sp.I\n",
    "s2 = -zeta*Wn - Wn*np.sqrt(1-zeta**2)*sp.I\n",
    "\n",
    "s_desired = s1\n",
    "s_desired"
   ]
  },
  {
   "cell_type": "markdown",
   "metadata": {},
   "source": [
    "# IMPLEMENTANDO O CONTROLADOR PID\n",
    "- Encontrando as constantes do controlador: $C(s) = K\\frac{(s-a)(s-b)}{s}$"
   ]
  },
  {
   "cell_type": "code",
   "execution_count": 43,
   "metadata": {},
   "outputs": [],
   "source": [
    "def sympyFunction(tf):\n",
    "    num, den = ctl.tfdata(tf)\n",
    "    \n",
    "    s = sp.var('s')\n",
    "    num_expr = sum(coef*s**i for i, coef in enumerate(num[0][0][::-1]))\n",
    "    den_expr = sum(coef*s**i for i, coef in enumerate(den[0][0][::-1]))\n",
    "    sympy_system = num_expr/den_expr\n",
    "\n",
    "    return sympy_system\n",
    "\n",
    "def roundSympyFunction(expr, num_digits=15):\n",
    "    return expr.xreplace({n: round(n, num_digits) for n in expr.atoms(sp.Float)})"
   ]
  },
  {
   "cell_type": "code",
   "execution_count": 44,
   "metadata": {},
   "outputs": [
    {
     "data": {
      "text/latex": [
       "$\\displaystyle \\frac{0.0064241780951594 s + 0.1975236421}{1.0 s - 0.49401493}$"
      ],
      "text/plain": [
       "(0.0064241780951594*s + 0.1975236421)/(1.0*s - 0.49401493)"
      ]
     },
     "execution_count": 44,
     "metadata": {},
     "output_type": "execute_result"
    }
   ],
   "source": [
    "s = sp.symbols('s')\n",
    "K, a, b = sp.symbols('K a b', real=True)\n",
    "\n",
    "G = sympyFunction(G)\n",
    "G"
   ]
  },
  {
   "cell_type": "markdown",
   "metadata": {},
   "source": [
    "- A função de transferência final em malha aberta será $G(s)C(s)$"
   ]
  },
  {
   "cell_type": "code",
   "execution_count": 45,
   "metadata": {},
   "outputs": [
    {
     "data": {
      "text/latex": [
       "$\\displaystyle \\frac{K \\left(- a + s\\right) \\left(- b + s\\right) \\left(0.0064241780951594 s + 0.1975236421\\right)}{s \\left(1.0 s - 0.49401493\\right)}$"
      ],
      "text/plain": [
       "K*(-a + s)*(-b + s)*(0.0064241780951594*s + 0.1975236421)/(s*(1.0*s - 0.49401493))"
      ]
     },
     "execution_count": 45,
     "metadata": {},
     "output_type": "execute_result"
    }
   ],
   "source": [
    "C = K * (s - a) * (s - b) / s\n",
    "GC = G * C\n",
    "\n",
    "GC"
   ]
  },
  {
   "cell_type": "code",
   "execution_count": 46,
   "metadata": {},
   "outputs": [],
   "source": [
    "ZERO = 1e-10"
   ]
  },
  {
   "cell_type": "markdown",
   "metadata": {},
   "source": [
    "- Erro em regime permanente para entrada em degrau é igual a zero (malha fechada)\n",
    "\n",
    "$erro = \\frac{1}{1+K_p}$ onde $K_p = \\lim_{s\\to 0} G(s)$"
   ]
  },
  {
   "cell_type": "code",
   "execution_count": 47,
   "metadata": {},
   "outputs": [
    {
     "data": {
      "text/latex": [
       "$\\displaystyle \\frac{1}{K \\left(- 3998333454.02386 a b + 0.399833345402386 a + 0.399833345402386 b - 3.99833345402386 \\cdot 10^{-11}\\right) + 1} = 1.0 \\cdot 10^{-10}$"
      ],
      "text/plain": [
       "Eq(1/(K*(-3998333454.02386*a*b + 0.399833345402386*a + 0.399833345402386*b - 3.99833345402386e-11) + 1), 1.0e-10)"
      ]
     },
     "execution_count": 47,
     "metadata": {},
     "output_type": "execute_result"
    }
   ],
   "source": [
    "Kp  = GC.subs(s, ZERO).expand().simplify()\n",
    "eq1 = 1/(1 + Kp)\n",
    "eq1 = sp.Eq(eq1, ZERO)\n",
    "eq1"
   ]
  },
  {
   "cell_type": "markdown",
   "metadata": {},
   "source": [
    "- A soma dos angulos da função de transferência em malha aberta + 180º é igual a zero para o $s$ desejado"
   ]
  },
  {
   "cell_type": "code",
   "execution_count": 48,
   "metadata": {},
   "outputs": [
    {
     "data": {
      "text/latex": [
       "$\\displaystyle \\arg{\\left(K \\left(0.196130858295847 + 0.00146059759938887 i\\right) \\left(0.216803423491961 + 0.227359450151207 i\\right) \\left(0.710818353491961 + 0.227359450151207 i\\right) \\left(- a - 0.216803423491961 + 0.227359450151207 i\\right) \\left(- b - 0.216803423491961 + 0.227359450151207 i\\right) \\right)} + \\pi = 1.0 \\cdot 10^{-10}$"
      ],
      "text/plain": [
       "Eq(arg(K*(0.196130858295847 + 0.00146059759938887*I)*(0.216803423491961 + 0.227359450151207*I)*(0.710818353491961 + 0.227359450151207*I)*(-a - 0.216803423491961 + 0.227359450151207*I)*(-b - 0.216803423491961 + 0.227359450151207*I)) + pi, 1.0e-10)"
      ]
     },
     "execution_count": 48,
     "metadata": {},
     "output_type": "execute_result"
    }
   ],
   "source": [
    "G_aux = GC.subs(s, s_desired)\n",
    "angle = sp.arg(G_aux)\n",
    "\n",
    "eq2 = sp.Eq(angle + sp.pi, ZERO)\n",
    "eq2"
   ]
  },
  {
   "cell_type": "markdown",
   "metadata": {},
   "source": [
    "- O módulo da função de transferência em malha aberta é igual a 1 para o $s$ desejado"
   ]
  },
  {
   "cell_type": "code",
   "execution_count": 49,
   "metadata": {},
   "outputs": [
    {
     "data": {
      "text/latex": [
       "$\\displaystyle 0.836561791386877 \\sqrt{a^{2} + 0.433606846983921 a + 0.0986960440108936} \\sqrt{b^{2} + 0.433606846983921 b + 0.0986960440108936} \\left|{K}\\right| - 1 = 1.0 \\cdot 10^{-10}$"
      ],
      "text/plain": [
       "Eq(0.836561791386877*sqrt(a**2 + 0.433606846983921*a + 0.0986960440108936)*sqrt(b**2 + 0.433606846983921*b + 0.0986960440108936)*Abs(K) - 1, 1.0e-10)"
      ]
     },
     "execution_count": 49,
     "metadata": {},
     "output_type": "execute_result"
    }
   ],
   "source": [
    "G_aux  = GC.subs(s, s_desired)\n",
    "modulo = sp.Abs(G_aux).expand().simplify()\n",
    "eq3    = sp.Eq(modulo - 1, ZERO)\n",
    "eq3"
   ]
  },
  {
   "cell_type": "code",
   "execution_count": 50,
   "metadata": {},
   "outputs": [
    {
     "name": "stdout",
     "output_type": "stream",
     "text": [
      "1/(K*(-3998333454.02386*a*b + 0.399833345402386*a + 0.399833345402386*b - 3.99833345402386e-11) + 1)\n",
      "np.angle(K*(0.196130858295847 + 0.00146059759938887j)*(0.216803423491961 + 0.227359450151207j)*(0.710818353491961 + 0.227359450151207j)*(-a - 0.216803423491961 + 0.227359450151207j)*(-b - 0.216803423491961 + 0.227359450151207j)) + np.pi\n",
      "0.836561791386877*np.sqrt(a**2 + 0.433606846983921*a + 0.0986960440108936)*np.sqrt(b**2 + 0.433606846983921*b + 0.0986960440108936)*np.abs(K) - 1\n"
     ]
    }
   ],
   "source": [
    "def convertString(eq):\n",
    "    return str(eq.lhs).replace('sqrt', 'np.sqrt').replace('Abs', 'np.abs').replace('pi', 'np.pi').replace('arg', 'np.angle').replace('*I', 'j').replace('I)', '1j)')\n",
    "\n",
    "str_eq1 = convertString(eq1)\n",
    "str_eq2 = convertString(eq2)\n",
    "str_eq3 = convertString(eq3)\n",
    "\n",
    "print(str_eq1)\n",
    "print(str_eq2)\n",
    "print(str_eq3)"
   ]
  },
  {
   "cell_type": "code",
   "execution_count": 51,
   "metadata": {},
   "outputs": [
    {
     "name": "stdout",
     "output_type": "stream",
     "text": [
      "Solucoes: [ 3.71572494 -1.55931074 -0.15218921] \n",
      "\n"
     ]
    },
    {
     "name": "stderr",
     "output_type": "stream",
     "text": [
      "c:\\Users\\PIFF.2202.0030\\AppData\\Local\\Programs\\Python\\Python311\\Lib\\site-packages\\scipy\\optimize\\_minpack_py.py:177: RuntimeWarning: The iteration is not making good progress, as measured by the \n",
      "  improvement from the last ten iterations.\n",
      "  warnings.warn(msg, RuntimeWarning)\n"
     ]
    }
   ],
   "source": [
    "from scipy.optimize import fsolve\n",
    "import numpy as np\n",
    "\n",
    "def sistema(variaveis):\n",
    "    (K, a, b) = variaveis\n",
    "    return [\n",
    "        eval(str_eq1), \n",
    "        eval(str_eq2),\n",
    "        eval(str_eq3)\n",
    "    ]\n",
    "\n",
    "solutions = fsolve(sistema, [1, 1, 1], maxfev=10000, xtol=ZERO)\n",
    "print('Solucoes:', solutions, '\\n')"
   ]
  },
  {
   "cell_type": "code",
   "execution_count": 52,
   "metadata": {},
   "outputs": [
    {
     "name": "stdout",
     "output_type": "stream",
     "text": [
      "-2.836356943242827e-10\n",
      "3.882036064897802e-05\n",
      "0.00040875425499886653\n"
     ]
    }
   ],
   "source": [
    "for eq in [eq1, eq2, eq3]:\n",
    "    sol = eq.lhs.subs({\n",
    "        K: solutions[0],\n",
    "        a: solutions[1],\n",
    "        b: solutions[2]\n",
    "    })\n",
    "    print(float(sol))"
   ]
  },
  {
   "cell_type": "code",
   "execution_count": 53,
   "metadata": {},
   "outputs": [
    {
     "data": {
      "text/plain": [
       "(3.715724935236598, -1.5593107447962538, -0.15218921491137669)"
      ]
     },
     "execution_count": 53,
     "metadata": {},
     "output_type": "execute_result"
    }
   ],
   "source": [
    "K = solutions[0]\n",
    "a = solutions[1]\n",
    "b = solutions[2]\n",
    "\n",
    "K, a, b"
   ]
  },
  {
   "cell_type": "code",
   "execution_count": 54,
   "metadata": {},
   "outputs": [
    {
     "data": {
      "text/latex": [
       "$$\\frac{3.716 s^2 + 6.359 s + 0.8818}{s}$$"
      ],
      "text/plain": [
       "TransferFunction(array([3.71572494, 6.35946308, 0.88177972]), array([1, 0]))"
      ]
     },
     "execution_count": 54,
     "metadata": {},
     "output_type": "execute_result"
    }
   ],
   "source": [
    "s = ctl.TransferFunction.s\n",
    "\n",
    "C = K * (s - a) * (s - b) / s\n",
    "C"
   ]
  },
  {
   "cell_type": "code",
   "execution_count": 55,
   "metadata": {},
   "outputs": [
    {
     "data": {
      "text/latex": [
       "$$\\frac{0.02387 s^3 + 0.7748 s^2 + 1.262 s + 0.1742}{s^2 - 0.494 s}$$"
      ],
      "text/plain": [
       "TransferFunction(array([0.02387048, 0.77479785, 1.26180902, 0.17417234]), array([ 1.        , -0.49401493,  0.        ]))"
      ]
     },
     "execution_count": 55,
     "metadata": {},
     "output_type": "execute_result"
    }
   ],
   "source": [
    "G  = G_bpk\n",
    "GC = G*C\n",
    "GC"
   ]
  },
  {
   "cell_type": "code",
   "execution_count": 56,
   "metadata": {},
   "outputs": [
    {
     "data": {
      "text/latex": [
       "$$\\frac{0.02387 s^3 + 0.7748 s^2 + 1.262 s + 0.1742}{0.02387 s^3 + 1.775 s^2 + 0.7678 s + 0.1742}$$"
      ],
      "text/plain": [
       "TransferFunction(array([0.02387048, 0.77479785, 1.26180902, 0.17417234]), array([0.02387048, 1.77479785, 0.76779409, 0.17417234]))"
      ]
     },
     "execution_count": 56,
     "metadata": {},
     "output_type": "execute_result"
    }
   ],
   "source": [
    "G_feedback = ctl.feedback(GC, 1)\n",
    "G_feedback"
   ]
  },
  {
   "cell_type": "code",
   "execution_count": 57,
   "metadata": {},
   "outputs": [
    {
     "data": {
      "image/png": "[encoded data removed]",
      "text/plain": [
       "<Figure size 640x480 with 1 Axes>"
      ]
     },
     "metadata": {},
     "output_type": "display_data"
    }
   ],
   "source": [
    "time, response = ctl.step_response(G_feedback)\n",
    "plt.plot(time, response, label='response')\n",
    "plt.plot(time, [1 for i in time], '--', label='setpoint')\n",
    "plt.legend()\n",
    "plt.grid()"
   ]
  },
  {
   "cell_type": "code",
   "execution_count": 58,
   "metadata": {},
   "outputs": [
    {
     "name": "stdout",
     "output_type": "stream",
     "text": [
      "overshoot:  0.4615080872911426\n",
      "valor de pico:  1.463143623104965\n",
      "tempo de pico:  4.9308567685010605\n",
      "tempo de assentamento:  21.029403349899226\n",
      "valor final:  1.0011190740770062\n",
      "erro:  0.001119074077006177\n"
     ]
    }
   ],
   "source": [
    "getAllInfo(time, response, setpoint=1)"
   ]
  }
 ],
 "metadata": {
  "kernelspec": {
   "display_name": "Python 3",
   "language": "python",
   "name": "python3"
  },
  "language_info": {
   "codemirror_mode": {
    "name": "ipython",
    "version": 3
   },
   "file_extension": ".py",
   "mimetype": "text/x-python",
   "name": "python",
   "nbconvert_exporter": "python",
   "pygments_lexer": "ipython3",
   "version": "3.11.4"
  }
 },
 "nbformat": 4,
 "nbformat_minor": 2
}
